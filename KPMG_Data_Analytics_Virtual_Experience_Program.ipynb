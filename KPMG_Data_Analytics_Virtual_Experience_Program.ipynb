{
  "nbformat": 4,
  "nbformat_minor": 0,
  "metadata": {
    "colab": {
      "name": "KPMG Data Analytics Virtual Experience Program ",
      "provenance": [],
      "mount_file_id": "1-L9BFkycn6XNCr5K85fvewN0-WBE8E3_",
      "authorship_tag": "ABX9TyOrxUINzGWny+SPvaHPUt34",
      "include_colab_link": true
    },
    "kernelspec": {
      "name": "python3",
      "display_name": "Python 3"
    },
    "language_info": {
      "name": "python"
    }
  },
  "cells": [
    {
      "cell_type": "markdown",
      "metadata": {
        "id": "view-in-github",
        "colab_type": "text"
      },
      "source": [
        "<a href=\"https://colab.research.google.com/github/vithika-karan/KPMG-Virtual-Internship/blob/main/KPMG_Data_Analytics_Virtual_Experience_Program.ipynb\" target=\"_parent\"><img src=\"https://colab.research.google.com/assets/colab-badge.svg\" alt=\"Open In Colab\"/></a>"
      ]
    },
    {
      "cell_type": "markdown",
      "source": [
        "##Problem Statement\n",
        "Sprocket Central Pty Ltd , a medium size bikes & cycling accessories organization has approached KPMG. They are looking to expand into a new market and we will be assisting them by showcasing our data analytics skills to recommend a suitable marketing strategy."
      ],
      "metadata": {
        "id": "gct1ntryfojH"
      }
    },
    {
      "cell_type": "markdown",
      "source": [
        "The client provided KPMG with 3 datasets:\n",
        "\n",
        "* Customer Demographic \n",
        "* Customer Addresses\n",
        "* Transactions data in the past 3 months\n"
      ],
      "metadata": {
        "id": "gn0QHLZrf4hA"
      }
    },
    {
      "cell_type": "markdown",
      "source": [
        "###Data Quality Assessment"
      ],
      "metadata": {
        "id": "5uEULlJ6gibD"
      }
    },
    {
      "cell_type": "code",
      "source": [
        "#importing libraries\n",
        "import pandas as pd\n",
        "import numpy as np\n",
        "from datetime import date\n",
        "import matplotlib.pyplot as plt\n",
        "import seaborn as sns\n",
        "plt.rcParams.update({'figure.figsize':(10,5),'figure.dpi':100})\n",
        "%matplotlib inline"
      ],
      "metadata": {
        "id": "lwlFEV3If-7c"
      },
      "execution_count": 378,
      "outputs": []
    },
    {
      "cell_type": "markdown",
      "source": [
        "Customer Demographics"
      ],
      "metadata": {
        "id": "dWzkInKBg_pq"
      }
    },
    {
      "cell_type": "code",
      "execution_count": 379,
      "metadata": {
        "id": "rxCUw97UeU5e"
      },
      "outputs": [],
      "source": [
        "#reading excel sheet\n",
        "xls = (\"/content/drive/MyDrive/KPMG/RAW DATA/KPMG_VI_New_raw_data_update_final.xlsx\")\n",
        "df_demography = pd.read_excel(xls, sheet_name=3,header=0)"
      ]
    },
    {
      "cell_type": "code",
      "source": [
        "#first look\n",
        "df_demography.head()"
      ],
      "metadata": {
        "colab": {
          "base_uri": "https://localhost:8080/",
          "height": 374
        },
        "id": "96kSBA15hnvS",
        "outputId": "5eabf82a-1520-4301-b8d7-76a80467bad7"
      },
      "execution_count": 380,
      "outputs": [
        {
          "output_type": "execute_result",
          "data": {
            "text/html": [
              "\n",
              "  <div id=\"df-f1175fd8-38e0-47f2-aba5-0d4c3ad764df\">\n",
              "    <div class=\"colab-df-container\">\n",
              "      <div>\n",
              "<style scoped>\n",
              "    .dataframe tbody tr th:only-of-type {\n",
              "        vertical-align: middle;\n",
              "    }\n",
              "\n",
              "    .dataframe tbody tr th {\n",
              "        vertical-align: top;\n",
              "    }\n",
              "\n",
              "    .dataframe thead th {\n",
              "        text-align: right;\n",
              "    }\n",
              "</style>\n",
              "<table border=\"1\" class=\"dataframe\">\n",
              "  <thead>\n",
              "    <tr style=\"text-align: right;\">\n",
              "      <th></th>\n",
              "      <th>customer_id</th>\n",
              "      <th>first_name</th>\n",
              "      <th>last_name</th>\n",
              "      <th>gender</th>\n",
              "      <th>past_3_years_bike_related_purchases</th>\n",
              "      <th>DOB</th>\n",
              "      <th>job_title</th>\n",
              "      <th>job_industry_category</th>\n",
              "      <th>wealth_segment</th>\n",
              "      <th>deceased_indicator</th>\n",
              "      <th>default</th>\n",
              "      <th>owns_car</th>\n",
              "      <th>tenure</th>\n",
              "    </tr>\n",
              "  </thead>\n",
              "  <tbody>\n",
              "    <tr>\n",
              "      <th>0</th>\n",
              "      <td>1</td>\n",
              "      <td>Laraine</td>\n",
              "      <td>Medendorp</td>\n",
              "      <td>F</td>\n",
              "      <td>93</td>\n",
              "      <td>1953-10-12</td>\n",
              "      <td>Executive Secretary</td>\n",
              "      <td>Health</td>\n",
              "      <td>Mass Customer</td>\n",
              "      <td>N</td>\n",
              "      <td>\"'</td>\n",
              "      <td>Yes</td>\n",
              "      <td>11.0</td>\n",
              "    </tr>\n",
              "    <tr>\n",
              "      <th>1</th>\n",
              "      <td>2</td>\n",
              "      <td>Eli</td>\n",
              "      <td>Bockman</td>\n",
              "      <td>Male</td>\n",
              "      <td>81</td>\n",
              "      <td>1980-12-16</td>\n",
              "      <td>Administrative Officer</td>\n",
              "      <td>Financial Services</td>\n",
              "      <td>Mass Customer</td>\n",
              "      <td>N</td>\n",
              "      <td>&lt;script&gt;alert('hi')&lt;/script&gt;</td>\n",
              "      <td>Yes</td>\n",
              "      <td>16.0</td>\n",
              "    </tr>\n",
              "    <tr>\n",
              "      <th>2</th>\n",
              "      <td>3</td>\n",
              "      <td>Arlin</td>\n",
              "      <td>Dearle</td>\n",
              "      <td>Male</td>\n",
              "      <td>61</td>\n",
              "      <td>1954-01-20</td>\n",
              "      <td>Recruiting Manager</td>\n",
              "      <td>Property</td>\n",
              "      <td>Mass Customer</td>\n",
              "      <td>N</td>\n",
              "      <td>2018-02-01 00:00:00</td>\n",
              "      <td>Yes</td>\n",
              "      <td>15.0</td>\n",
              "    </tr>\n",
              "    <tr>\n",
              "      <th>3</th>\n",
              "      <td>4</td>\n",
              "      <td>Talbot</td>\n",
              "      <td>NaN</td>\n",
              "      <td>Male</td>\n",
              "      <td>33</td>\n",
              "      <td>1961-10-03</td>\n",
              "      <td>NaN</td>\n",
              "      <td>IT</td>\n",
              "      <td>Mass Customer</td>\n",
              "      <td>N</td>\n",
              "      <td>() { _; } &gt;_[$($())] { touch /tmp/blns.shellsh...</td>\n",
              "      <td>No</td>\n",
              "      <td>7.0</td>\n",
              "    </tr>\n",
              "    <tr>\n",
              "      <th>4</th>\n",
              "      <td>5</td>\n",
              "      <td>Sheila-kathryn</td>\n",
              "      <td>Calton</td>\n",
              "      <td>Female</td>\n",
              "      <td>56</td>\n",
              "      <td>1977-05-13</td>\n",
              "      <td>Senior Editor</td>\n",
              "      <td>NaN</td>\n",
              "      <td>Affluent Customer</td>\n",
              "      <td>N</td>\n",
              "      <td>NIL</td>\n",
              "      <td>Yes</td>\n",
              "      <td>8.0</td>\n",
              "    </tr>\n",
              "  </tbody>\n",
              "</table>\n",
              "</div>\n",
              "      <button class=\"colab-df-convert\" onclick=\"convertToInteractive('df-f1175fd8-38e0-47f2-aba5-0d4c3ad764df')\"\n",
              "              title=\"Convert this dataframe to an interactive table.\"\n",
              "              style=\"display:none;\">\n",
              "        \n",
              "  <svg xmlns=\"http://www.w3.org/2000/svg\" height=\"24px\"viewBox=\"0 0 24 24\"\n",
              "       width=\"24px\">\n",
              "    <path d=\"M0 0h24v24H0V0z\" fill=\"none\"/>\n",
              "    <path d=\"M18.56 5.44l.94 2.06.94-2.06 2.06-.94-2.06-.94-.94-2.06-.94 2.06-2.06.94zm-11 1L8.5 8.5l.94-2.06 2.06-.94-2.06-.94L8.5 2.5l-.94 2.06-2.06.94zm10 10l.94 2.06.94-2.06 2.06-.94-2.06-.94-.94-2.06-.94 2.06-2.06.94z\"/><path d=\"M17.41 7.96l-1.37-1.37c-.4-.4-.92-.59-1.43-.59-.52 0-1.04.2-1.43.59L10.3 9.45l-7.72 7.72c-.78.78-.78 2.05 0 2.83L4 21.41c.39.39.9.59 1.41.59.51 0 1.02-.2 1.41-.59l7.78-7.78 2.81-2.81c.8-.78.8-2.07 0-2.86zM5.41 20L4 18.59l7.72-7.72 1.47 1.35L5.41 20z\"/>\n",
              "  </svg>\n",
              "      </button>\n",
              "      \n",
              "  <style>\n",
              "    .colab-df-container {\n",
              "      display:flex;\n",
              "      flex-wrap:wrap;\n",
              "      gap: 12px;\n",
              "    }\n",
              "\n",
              "    .colab-df-convert {\n",
              "      background-color: #E8F0FE;\n",
              "      border: none;\n",
              "      border-radius: 50%;\n",
              "      cursor: pointer;\n",
              "      display: none;\n",
              "      fill: #1967D2;\n",
              "      height: 32px;\n",
              "      padding: 0 0 0 0;\n",
              "      width: 32px;\n",
              "    }\n",
              "\n",
              "    .colab-df-convert:hover {\n",
              "      background-color: #E2EBFA;\n",
              "      box-shadow: 0px 1px 2px rgba(60, 64, 67, 0.3), 0px 1px 3px 1px rgba(60, 64, 67, 0.15);\n",
              "      fill: #174EA6;\n",
              "    }\n",
              "\n",
              "    [theme=dark] .colab-df-convert {\n",
              "      background-color: #3B4455;\n",
              "      fill: #D2E3FC;\n",
              "    }\n",
              "\n",
              "    [theme=dark] .colab-df-convert:hover {\n",
              "      background-color: #434B5C;\n",
              "      box-shadow: 0px 1px 3px 1px rgba(0, 0, 0, 0.15);\n",
              "      filter: drop-shadow(0px 1px 2px rgba(0, 0, 0, 0.3));\n",
              "      fill: #FFFFFF;\n",
              "    }\n",
              "  </style>\n",
              "\n",
              "      <script>\n",
              "        const buttonEl =\n",
              "          document.querySelector('#df-f1175fd8-38e0-47f2-aba5-0d4c3ad764df button.colab-df-convert');\n",
              "        buttonEl.style.display =\n",
              "          google.colab.kernel.accessAllowed ? 'block' : 'none';\n",
              "\n",
              "        async function convertToInteractive(key) {\n",
              "          const element = document.querySelector('#df-f1175fd8-38e0-47f2-aba5-0d4c3ad764df');\n",
              "          const dataTable =\n",
              "            await google.colab.kernel.invokeFunction('convertToInteractive',\n",
              "                                                     [key], {});\n",
              "          if (!dataTable) return;\n",
              "\n",
              "          const docLinkHtml = 'Like what you see? Visit the ' +\n",
              "            '<a target=\"_blank\" href=https://colab.research.google.com/notebooks/data_table.ipynb>data table notebook</a>'\n",
              "            + ' to learn more about interactive tables.';\n",
              "          element.innerHTML = '';\n",
              "          dataTable['output_type'] = 'display_data';\n",
              "          await google.colab.output.renderOutput(dataTable, element);\n",
              "          const docLink = document.createElement('div');\n",
              "          docLink.innerHTML = docLinkHtml;\n",
              "          element.appendChild(docLink);\n",
              "        }\n",
              "      </script>\n",
              "    </div>\n",
              "  </div>\n",
              "  "
            ],
            "text/plain": [
              "   customer_id      first_name  ... owns_car tenure\n",
              "0            1         Laraine  ...      Yes   11.0\n",
              "1            2             Eli  ...      Yes   16.0\n",
              "2            3           Arlin  ...      Yes   15.0\n",
              "3            4          Talbot  ...       No    7.0\n",
              "4            5  Sheila-kathryn  ...      Yes    8.0\n",
              "\n",
              "[5 rows x 13 columns]"
            ]
          },
          "metadata": {},
          "execution_count": 380
        }
      ]
    },
    {
      "cell_type": "code",
      "source": [
        "#info\n",
        "df_demography.info()"
      ],
      "metadata": {
        "colab": {
          "base_uri": "https://localhost:8080/"
        },
        "id": "k_WWV8GikUkB",
        "outputId": "f67f920c-ef40-49a1-f34d-28ccd4df4143"
      },
      "execution_count": 381,
      "outputs": [
        {
          "output_type": "stream",
          "name": "stdout",
          "text": [
            "<class 'pandas.core.frame.DataFrame'>\n",
            "RangeIndex: 4000 entries, 0 to 3999\n",
            "Data columns (total 13 columns):\n",
            " #   Column                               Non-Null Count  Dtype         \n",
            "---  ------                               --------------  -----         \n",
            " 0   customer_id                          4000 non-null   int64         \n",
            " 1   first_name                           4000 non-null   object        \n",
            " 2   last_name                            3875 non-null   object        \n",
            " 3   gender                               4000 non-null   object        \n",
            " 4   past_3_years_bike_related_purchases  4000 non-null   int64         \n",
            " 5   DOB                                  3913 non-null   datetime64[ns]\n",
            " 6   job_title                            3494 non-null   object        \n",
            " 7   job_industry_category                3344 non-null   object        \n",
            " 8   wealth_segment                       4000 non-null   object        \n",
            " 9   deceased_indicator                   4000 non-null   object        \n",
            " 10  default                              3698 non-null   object        \n",
            " 11  owns_car                             4000 non-null   object        \n",
            " 12  tenure                               3913 non-null   float64       \n",
            "dtypes: datetime64[ns](1), float64(1), int64(2), object(9)\n",
            "memory usage: 406.4+ KB\n"
          ]
        }
      ]
    },
    {
      "cell_type": "code",
      "source": [
        "#null values\n",
        "df_demography.isnull().sum()"
      ],
      "metadata": {
        "colab": {
          "base_uri": "https://localhost:8080/"
        },
        "id": "uX3UogAZladK",
        "outputId": "cecf7e79-c093-48f6-b1d2-bb2a7a9d27b0"
      },
      "execution_count": 382,
      "outputs": [
        {
          "output_type": "execute_result",
          "data": {
            "text/plain": [
              "customer_id                              0\n",
              "first_name                               0\n",
              "last_name                              125\n",
              "gender                                   0\n",
              "past_3_years_bike_related_purchases      0\n",
              "DOB                                     87\n",
              "job_title                              506\n",
              "job_industry_category                  656\n",
              "wealth_segment                           0\n",
              "deceased_indicator                       0\n",
              "default                                302\n",
              "owns_car                                 0\n",
              "tenure                                  87\n",
              "dtype: int64"
            ]
          },
          "metadata": {},
          "execution_count": 382
        }
      ]
    },
    {
      "cell_type": "code",
      "source": [
        "#duplicates\n",
        "df_demography.duplicated().sum()"
      ],
      "metadata": {
        "colab": {
          "base_uri": "https://localhost:8080/"
        },
        "id": "ZlneMa_e7AUM",
        "outputId": "726b90ec-af76-4845-9869-37d92d338685"
      },
      "execution_count": 383,
      "outputs": [
        {
          "output_type": "execute_result",
          "data": {
            "text/plain": [
              "0"
            ]
          },
          "metadata": {},
          "execution_count": 383
        }
      ]
    },
    {
      "cell_type": "code",
      "source": [
        "#earlier we saw a corrupted column in dataset head\n",
        "df_demography.drop('default',axis=1,inplace=True)"
      ],
      "metadata": {
        "id": "vTTw2VZ77YHX"
      },
      "execution_count": 384,
      "outputs": []
    },
    {
      "cell_type": "code",
      "source": [
        "#no of unique values\n",
        "df_demography.nunique()"
      ],
      "metadata": {
        "colab": {
          "base_uri": "https://localhost:8080/"
        },
        "id": "tBcWwRAH8K7n",
        "outputId": "054ae0be-66ca-434e-f236-1d01531434da"
      },
      "execution_count": 385,
      "outputs": [
        {
          "output_type": "execute_result",
          "data": {
            "text/plain": [
              "customer_id                            4000\n",
              "first_name                             3139\n",
              "last_name                              3725\n",
              "gender                                    6\n",
              "past_3_years_bike_related_purchases     100\n",
              "DOB                                    3448\n",
              "job_title                               195\n",
              "job_industry_category                     9\n",
              "wealth_segment                            3\n",
              "deceased_indicator                        2\n",
              "owns_car                                  2\n",
              "tenure                                   22\n",
              "dtype: int64"
            ]
          },
          "metadata": {},
          "execution_count": 385
        }
      ]
    },
    {
      "cell_type": "code",
      "source": [
        "#gender\n",
        "df_demography['gender'].value_counts()"
      ],
      "metadata": {
        "colab": {
          "base_uri": "https://localhost:8080/"
        },
        "id": "_bOWnpOP8QR2",
        "outputId": "c3e96c60-f9ec-449d-dbd5-04796e171033"
      },
      "execution_count": 386,
      "outputs": [
        {
          "output_type": "execute_result",
          "data": {
            "text/plain": [
              "Female    2037\n",
              "Male      1872\n",
              "U           88\n",
              "F            1\n",
              "M            1\n",
              "Femal        1\n",
              "Name: gender, dtype: int64"
            ]
          },
          "metadata": {},
          "execution_count": 386
        }
      ]
    },
    {
      "cell_type": "code",
      "source": [
        "#replacing the inconsistent data\n",
        "df_demography['gender'].replace({'U':'Unspecified','F':'Female','Femal':'Female','M':'Male'},inplace=True)"
      ],
      "metadata": {
        "id": "SpJI-t4s8t0c"
      },
      "execution_count": 387,
      "outputs": []
    },
    {
      "cell_type": "code",
      "source": [
        "#let's check dob\n",
        "df_demography['DOB'].describe()"
      ],
      "metadata": {
        "colab": {
          "base_uri": "https://localhost:8080/"
        },
        "id": "VQmZyJU-9SGH",
        "outputId": "c68a0101-2309-410e-83fd-9301ce6dbf70"
      },
      "execution_count": 388,
      "outputs": [
        {
          "output_type": "stream",
          "name": "stderr",
          "text": [
            "/usr/local/lib/python3.7/dist-packages/ipykernel_launcher.py:2: FutureWarning: Treating datetime data as categorical rather than numeric in `.describe` is deprecated and will be removed in a future version of pandas. Specify `datetime_is_numeric=True` to silence this warning and adopt the future behavior now.\n",
            "  \n"
          ]
        },
        {
          "output_type": "execute_result",
          "data": {
            "text/plain": [
              "count                    3913\n",
              "unique                   3448\n",
              "top       1978-01-30 00:00:00\n",
              "freq                        7\n",
              "first     1843-12-21 00:00:00\n",
              "last      2002-03-11 00:00:00\n",
              "Name: DOB, dtype: object"
            ]
          },
          "metadata": {},
          "execution_count": 388
        }
      ]
    },
    {
      "cell_type": "code",
      "source": [
        "df_demography[df_demography['DOB'] < '1931-01-01 00:00:00']"
      ],
      "metadata": {
        "id": "oA2f7-hW9p_g",
        "colab": {
          "base_uri": "https://localhost:8080/",
          "height": 162
        },
        "outputId": "f389db72-9fa4-4a50-aa40-740771311ea6"
      },
      "execution_count": 389,
      "outputs": [
        {
          "output_type": "execute_result",
          "data": {
            "text/html": [
              "\n",
              "  <div id=\"df-cf1f5df1-5a39-4d11-9258-686dbd445264\">\n",
              "    <div class=\"colab-df-container\">\n",
              "      <div>\n",
              "<style scoped>\n",
              "    .dataframe tbody tr th:only-of-type {\n",
              "        vertical-align: middle;\n",
              "    }\n",
              "\n",
              "    .dataframe tbody tr th {\n",
              "        vertical-align: top;\n",
              "    }\n",
              "\n",
              "    .dataframe thead th {\n",
              "        text-align: right;\n",
              "    }\n",
              "</style>\n",
              "<table border=\"1\" class=\"dataframe\">\n",
              "  <thead>\n",
              "    <tr style=\"text-align: right;\">\n",
              "      <th></th>\n",
              "      <th>customer_id</th>\n",
              "      <th>first_name</th>\n",
              "      <th>last_name</th>\n",
              "      <th>gender</th>\n",
              "      <th>past_3_years_bike_related_purchases</th>\n",
              "      <th>DOB</th>\n",
              "      <th>job_title</th>\n",
              "      <th>job_industry_category</th>\n",
              "      <th>wealth_segment</th>\n",
              "      <th>deceased_indicator</th>\n",
              "      <th>owns_car</th>\n",
              "      <th>tenure</th>\n",
              "    </tr>\n",
              "  </thead>\n",
              "  <tbody>\n",
              "    <tr>\n",
              "      <th>33</th>\n",
              "      <td>34</td>\n",
              "      <td>Jephthah</td>\n",
              "      <td>Bachmann</td>\n",
              "      <td>Unspecified</td>\n",
              "      <td>59</td>\n",
              "      <td>1843-12-21</td>\n",
              "      <td>Legal Assistant</td>\n",
              "      <td>IT</td>\n",
              "      <td>Affluent Customer</td>\n",
              "      <td>N</td>\n",
              "      <td>No</td>\n",
              "      <td>20.0</td>\n",
              "    </tr>\n",
              "  </tbody>\n",
              "</table>\n",
              "</div>\n",
              "      <button class=\"colab-df-convert\" onclick=\"convertToInteractive('df-cf1f5df1-5a39-4d11-9258-686dbd445264')\"\n",
              "              title=\"Convert this dataframe to an interactive table.\"\n",
              "              style=\"display:none;\">\n",
              "        \n",
              "  <svg xmlns=\"http://www.w3.org/2000/svg\" height=\"24px\"viewBox=\"0 0 24 24\"\n",
              "       width=\"24px\">\n",
              "    <path d=\"M0 0h24v24H0V0z\" fill=\"none\"/>\n",
              "    <path d=\"M18.56 5.44l.94 2.06.94-2.06 2.06-.94-2.06-.94-.94-2.06-.94 2.06-2.06.94zm-11 1L8.5 8.5l.94-2.06 2.06-.94-2.06-.94L8.5 2.5l-.94 2.06-2.06.94zm10 10l.94 2.06.94-2.06 2.06-.94-2.06-.94-.94-2.06-.94 2.06-2.06.94z\"/><path d=\"M17.41 7.96l-1.37-1.37c-.4-.4-.92-.59-1.43-.59-.52 0-1.04.2-1.43.59L10.3 9.45l-7.72 7.72c-.78.78-.78 2.05 0 2.83L4 21.41c.39.39.9.59 1.41.59.51 0 1.02-.2 1.41-.59l7.78-7.78 2.81-2.81c.8-.78.8-2.07 0-2.86zM5.41 20L4 18.59l7.72-7.72 1.47 1.35L5.41 20z\"/>\n",
              "  </svg>\n",
              "      </button>\n",
              "      \n",
              "  <style>\n",
              "    .colab-df-container {\n",
              "      display:flex;\n",
              "      flex-wrap:wrap;\n",
              "      gap: 12px;\n",
              "    }\n",
              "\n",
              "    .colab-df-convert {\n",
              "      background-color: #E8F0FE;\n",
              "      border: none;\n",
              "      border-radius: 50%;\n",
              "      cursor: pointer;\n",
              "      display: none;\n",
              "      fill: #1967D2;\n",
              "      height: 32px;\n",
              "      padding: 0 0 0 0;\n",
              "      width: 32px;\n",
              "    }\n",
              "\n",
              "    .colab-df-convert:hover {\n",
              "      background-color: #E2EBFA;\n",
              "      box-shadow: 0px 1px 2px rgba(60, 64, 67, 0.3), 0px 1px 3px 1px rgba(60, 64, 67, 0.15);\n",
              "      fill: #174EA6;\n",
              "    }\n",
              "\n",
              "    [theme=dark] .colab-df-convert {\n",
              "      background-color: #3B4455;\n",
              "      fill: #D2E3FC;\n",
              "    }\n",
              "\n",
              "    [theme=dark] .colab-df-convert:hover {\n",
              "      background-color: #434B5C;\n",
              "      box-shadow: 0px 1px 3px 1px rgba(0, 0, 0, 0.15);\n",
              "      filter: drop-shadow(0px 1px 2px rgba(0, 0, 0, 0.3));\n",
              "      fill: #FFFFFF;\n",
              "    }\n",
              "  </style>\n",
              "\n",
              "      <script>\n",
              "        const buttonEl =\n",
              "          document.querySelector('#df-cf1f5df1-5a39-4d11-9258-686dbd445264 button.colab-df-convert');\n",
              "        buttonEl.style.display =\n",
              "          google.colab.kernel.accessAllowed ? 'block' : 'none';\n",
              "\n",
              "        async function convertToInteractive(key) {\n",
              "          const element = document.querySelector('#df-cf1f5df1-5a39-4d11-9258-686dbd445264');\n",
              "          const dataTable =\n",
              "            await google.colab.kernel.invokeFunction('convertToInteractive',\n",
              "                                                     [key], {});\n",
              "          if (!dataTable) return;\n",
              "\n",
              "          const docLinkHtml = 'Like what you see? Visit the ' +\n",
              "            '<a target=\"_blank\" href=https://colab.research.google.com/notebooks/data_table.ipynb>data table notebook</a>'\n",
              "            + ' to learn more about interactive tables.';\n",
              "          element.innerHTML = '';\n",
              "          dataTable['output_type'] = 'display_data';\n",
              "          await google.colab.output.renderOutput(dataTable, element);\n",
              "          const docLink = document.createElement('div');\n",
              "          docLink.innerHTML = docLinkHtml;\n",
              "          element.appendChild(docLink);\n",
              "        }\n",
              "      </script>\n",
              "    </div>\n",
              "  </div>\n",
              "  "
            ],
            "text/plain": [
              "    customer_id first_name last_name  ... deceased_indicator  owns_car tenure\n",
              "33           34   Jephthah  Bachmann  ...                  N        No   20.0\n",
              "\n",
              "[1 rows x 12 columns]"
            ]
          },
          "metadata": {},
          "execution_count": 389
        }
      ]
    },
    {
      "cell_type": "code",
      "source": [
        "df_demography.loc[33,'DOB']= df_demography.loc[33,'DOB'].replace(year=1977) #replaced it with datetime mean"
      ],
      "metadata": {
        "id": "WdBHuspnCyBg"
      },
      "execution_count": 390,
      "outputs": []
    },
    {
      "cell_type": "code",
      "source": [
        "#job title\n",
        "df_demography['job_title'].value_counts()"
      ],
      "metadata": {
        "colab": {
          "base_uri": "https://localhost:8080/"
        },
        "id": "6H1P_JxuDcZm",
        "outputId": "3ad47d28-e89d-4c85-d3a3-5621e10fb394"
      },
      "execution_count": 391,
      "outputs": [
        {
          "output_type": "execute_result",
          "data": {
            "text/plain": [
              "Business Systems Development Analyst    45\n",
              "Tax Accountant                          44\n",
              "Social Worker                           44\n",
              "Internal Auditor                        42\n",
              "Legal Assistant                         41\n",
              "                                        ..\n",
              "Geologist II                             4\n",
              "Health Coach III                         3\n",
              "Research Assistant III                   3\n",
              "Health Coach I                           3\n",
              "Developer I                              1\n",
              "Name: job_title, Length: 195, dtype: int64"
            ]
          },
          "metadata": {},
          "execution_count": 391
        }
      ]
    },
    {
      "cell_type": "code",
      "source": [
        "df_demography['job_title'].fillna(method='bfill',inplace=True)"
      ],
      "metadata": {
        "id": "-JKl3C-UEDYd"
      },
      "execution_count": 392,
      "outputs": []
    },
    {
      "cell_type": "code",
      "source": [
        "#job industry category\n",
        "df_demography['job_industry_category'].value_counts()"
      ],
      "metadata": {
        "colab": {
          "base_uri": "https://localhost:8080/"
        },
        "id": "QeNBbjrDEzJ3",
        "outputId": "2185c4b4-8ac3-4760-c77f-393f2a89b865"
      },
      "execution_count": 393,
      "outputs": [
        {
          "output_type": "execute_result",
          "data": {
            "text/plain": [
              "Manufacturing         799\n",
              "Financial Services    774\n",
              "Health                602\n",
              "Retail                358\n",
              "Property              267\n",
              "IT                    223\n",
              "Entertainment         136\n",
              "Argiculture           113\n",
              "Telecommunications     72\n",
              "Name: job_industry_category, dtype: int64"
            ]
          },
          "metadata": {},
          "execution_count": 393
        }
      ]
    },
    {
      "cell_type": "code",
      "source": [
        "df_demography['job_industry_category'].fillna(method='ffill',inplace=True)"
      ],
      "metadata": {
        "id": "V3QUurOcFAWt"
      },
      "execution_count": 394,
      "outputs": []
    },
    {
      "cell_type": "code",
      "source": [
        "#wealth segment\n",
        "df_demography['wealth_segment'].value_counts()"
      ],
      "metadata": {
        "colab": {
          "base_uri": "https://localhost:8080/"
        },
        "id": "V5n93ihpFEhL",
        "outputId": "44d5cb98-455c-4287-c169-49679e163e77"
      },
      "execution_count": 395,
      "outputs": [
        {
          "output_type": "execute_result",
          "data": {
            "text/plain": [
              "Mass Customer        2000\n",
              "High Net Worth       1021\n",
              "Affluent Customer     979\n",
              "Name: wealth_segment, dtype: int64"
            ]
          },
          "metadata": {},
          "execution_count": 395
        }
      ]
    },
    {
      "cell_type": "code",
      "source": [
        "#deceased indicator\n",
        "df_demography['deceased_indicator'].value_counts()"
      ],
      "metadata": {
        "colab": {
          "base_uri": "https://localhost:8080/"
        },
        "id": "lvz_DhmrFhkK",
        "outputId": "fcf29efb-468c-4a48-a4ec-fed89e45104c"
      },
      "execution_count": 396,
      "outputs": [
        {
          "output_type": "execute_result",
          "data": {
            "text/plain": [
              "N    3998\n",
              "Y       2\n",
              "Name: deceased_indicator, dtype: int64"
            ]
          },
          "metadata": {},
          "execution_count": 396
        }
      ]
    },
    {
      "cell_type": "code",
      "source": [
        "df_demography['deceased_indicator'].replace({'N':False,'Y':True},inplace=True)"
      ],
      "metadata": {
        "id": "tFg3NZoMFxiB"
      },
      "execution_count": 397,
      "outputs": []
    },
    {
      "cell_type": "code",
      "source": [
        "#owns car\n",
        "df_demography['owns_car'].value_counts()"
      ],
      "metadata": {
        "colab": {
          "base_uri": "https://localhost:8080/"
        },
        "id": "_6avjJOBF72I",
        "outputId": "3b12d6e5-5060-4ccb-9ac7-936b3a299c51"
      },
      "execution_count": 398,
      "outputs": [
        {
          "output_type": "execute_result",
          "data": {
            "text/plain": [
              "Yes    2024\n",
              "No     1976\n",
              "Name: owns_car, dtype: int64"
            ]
          },
          "metadata": {},
          "execution_count": 398
        }
      ]
    },
    {
      "cell_type": "code",
      "source": [
        "df_demography['owns_car'].replace({'Yes':True,'No':False},inplace=True)"
      ],
      "metadata": {
        "id": "t3JOJybkGGzw"
      },
      "execution_count": 399,
      "outputs": []
    },
    {
      "cell_type": "code",
      "source": [
        "#tenure\n",
        "sns.distplot(x=df_demography['tenure']) #kind of normal"
      ],
      "metadata": {
        "colab": {
          "base_uri": "https://localhost:8080/",
          "height": 337
        },
        "id": "cYtQviv2GQ3t",
        "outputId": "3b447484-f693-4f85-bdf0-ee7c9560375a"
      },
      "execution_count": 400,
      "outputs": [
        {
          "output_type": "stream",
          "name": "stderr",
          "text": [
            "/usr/local/lib/python3.7/dist-packages/seaborn/distributions.py:2619: FutureWarning: `distplot` is a deprecated function and will be removed in a future version. Please adapt your code to use either `displot` (a figure-level function with similar flexibility) or `histplot` (an axes-level function for histograms).\n",
            "  warnings.warn(msg, FutureWarning)\n"
          ]
        },
        {
          "output_type": "execute_result",
          "data": {
            "text/plain": [
              "<matplotlib.axes._subplots.AxesSubplot at 0x7fc0d8d79e50>"
            ]
          },
          "metadata": {},
          "execution_count": 400
        },
        {
          "output_type": "display_data",
          "data": {
            "image/png": "[encoded data removed]",
            "text/plain": [
              "<Figure size 432x288 with 1 Axes>"
            ]
          },
          "metadata": {
            "needs_background": "light"
          }
        }
      ]
    },
    {
      "cell_type": "code",
      "source": [
        "df_demography['tenure'].fillna(df_demography['tenure'].mean(),inplace=True)"
      ],
      "metadata": {
        "id": "_TCQF4pGGfN4"
      },
      "execution_count": 401,
      "outputs": []
    },
    {
      "cell_type": "code",
      "source": [
        "df_demography.info()"
      ],
      "metadata": {
        "colab": {
          "base_uri": "https://localhost:8080/"
        },
        "id": "SlB9rSBUG0Ym",
        "outputId": "8e0eac12-eb54-44d4-87f5-dbe0b6c16088"
      },
      "execution_count": 402,
      "outputs": [
        {
          "output_type": "stream",
          "name": "stdout",
          "text": [
            "<class 'pandas.core.frame.DataFrame'>\n",
            "RangeIndex: 4000 entries, 0 to 3999\n",
            "Data columns (total 12 columns):\n",
            " #   Column                               Non-Null Count  Dtype         \n",
            "---  ------                               --------------  -----         \n",
            " 0   customer_id                          4000 non-null   int64         \n",
            " 1   first_name                           4000 non-null   object        \n",
            " 2   last_name                            3875 non-null   object        \n",
            " 3   gender                               4000 non-null   object        \n",
            " 4   past_3_years_bike_related_purchases  4000 non-null   int64         \n",
            " 5   DOB                                  3913 non-null   datetime64[ns]\n",
            " 6   job_title                            4000 non-null   object        \n",
            " 7   job_industry_category                4000 non-null   object        \n",
            " 8   wealth_segment                       4000 non-null   object        \n",
            " 9   deceased_indicator                   4000 non-null   bool          \n",
            " 10  owns_car                             4000 non-null   bool          \n",
            " 11  tenure                               4000 non-null   float64       \n",
            "dtypes: bool(2), datetime64[ns](1), float64(1), int64(2), object(6)\n",
            "memory usage: 320.4+ KB\n"
          ]
        }
      ]
    },
    {
      "cell_type": "code",
      "source": [
        "original_customers = df_demography.copy()"
      ],
      "metadata": {
        "id": "2ARBGmvqB_JC"
      },
      "execution_count": 403,
      "outputs": []
    },
    {
      "cell_type": "markdown",
      "source": [
        "**Customer Addresses**\n"
      ],
      "metadata": {
        "id": "tOnya4VJHe3p"
      }
    },
    {
      "cell_type": "code",
      "source": [
        "#reading data\n",
        "df_addresses = pd.read_excel(xls, sheet_name=4,header=1)"
      ],
      "metadata": {
        "id": "xl-gOuRLHZ7J"
      },
      "execution_count": 404,
      "outputs": []
    },
    {
      "cell_type": "code",
      "source": [
        "df_addresses.head()"
      ],
      "metadata": {
        "colab": {
          "base_uri": "https://localhost:8080/",
          "height": 206
        },
        "id": "9qnC0nMRIGMp",
        "outputId": "2c27ad6c-bbfe-456e-fb3a-ffec39f15925"
      },
      "execution_count": 405,
      "outputs": [
        {
          "output_type": "execute_result",
          "data": {
            "text/html": [
              "\n",
              "  <div id=\"df-35082bc5-3eb5-4494-bbc3-7a6adfb7b04d\">\n",
              "    <div class=\"colab-df-container\">\n",
              "      <div>\n",
              "<style scoped>\n",
              "    .dataframe tbody tr th:only-of-type {\n",
              "        vertical-align: middle;\n",
              "    }\n",
              "\n",
              "    .dataframe tbody tr th {\n",
              "        vertical-align: top;\n",
              "    }\n",
              "\n",
              "    .dataframe thead th {\n",
              "        text-align: right;\n",
              "    }\n",
              "</style>\n",
              "<table border=\"1\" class=\"dataframe\">\n",
              "  <thead>\n",
              "    <tr style=\"text-align: right;\">\n",
              "      <th></th>\n",
              "      <th>customer_id</th>\n",
              "      <th>address</th>\n",
              "      <th>postcode</th>\n",
              "      <th>state</th>\n",
              "      <th>country</th>\n",
              "      <th>property_valuation</th>\n",
              "    </tr>\n",
              "  </thead>\n",
              "  <tbody>\n",
              "    <tr>\n",
              "      <th>0</th>\n",
              "      <td>1</td>\n",
              "      <td>060 Morning Avenue</td>\n",
              "      <td>2016</td>\n",
              "      <td>New South Wales</td>\n",
              "      <td>Australia</td>\n",
              "      <td>10</td>\n",
              "    </tr>\n",
              "    <tr>\n",
              "      <th>1</th>\n",
              "      <td>2</td>\n",
              "      <td>6 Meadow Vale Court</td>\n",
              "      <td>2153</td>\n",
              "      <td>New South Wales</td>\n",
              "      <td>Australia</td>\n",
              "      <td>10</td>\n",
              "    </tr>\n",
              "    <tr>\n",
              "      <th>2</th>\n",
              "      <td>4</td>\n",
              "      <td>0 Holy Cross Court</td>\n",
              "      <td>4211</td>\n",
              "      <td>QLD</td>\n",
              "      <td>Australia</td>\n",
              "      <td>9</td>\n",
              "    </tr>\n",
              "    <tr>\n",
              "      <th>3</th>\n",
              "      <td>5</td>\n",
              "      <td>17979 Del Mar Point</td>\n",
              "      <td>2448</td>\n",
              "      <td>New South Wales</td>\n",
              "      <td>Australia</td>\n",
              "      <td>4</td>\n",
              "    </tr>\n",
              "    <tr>\n",
              "      <th>4</th>\n",
              "      <td>6</td>\n",
              "      <td>9 Oakridge Court</td>\n",
              "      <td>3216</td>\n",
              "      <td>VIC</td>\n",
              "      <td>Australia</td>\n",
              "      <td>9</td>\n",
              "    </tr>\n",
              "  </tbody>\n",
              "</table>\n",
              "</div>\n",
              "      <button class=\"colab-df-convert\" onclick=\"convertToInteractive('df-35082bc5-3eb5-4494-bbc3-7a6adfb7b04d')\"\n",
              "              title=\"Convert this dataframe to an interactive table.\"\n",
              "              style=\"display:none;\">\n",
              "        \n",
              "  <svg xmlns=\"http://www.w3.org/2000/svg\" height=\"24px\"viewBox=\"0 0 24 24\"\n",
              "       width=\"24px\">\n",
              "    <path d=\"M0 0h24v24H0V0z\" fill=\"none\"/>\n",
              "    <path d=\"M18.56 5.44l.94 2.06.94-2.06 2.06-.94-2.06-.94-.94-2.06-.94 2.06-2.06.94zm-11 1L8.5 8.5l.94-2.06 2.06-.94-2.06-.94L8.5 2.5l-.94 2.06-2.06.94zm10 10l.94 2.06.94-2.06 2.06-.94-2.06-.94-.94-2.06-.94 2.06-2.06.94z\"/><path d=\"M17.41 7.96l-1.37-1.37c-.4-.4-.92-.59-1.43-.59-.52 0-1.04.2-1.43.59L10.3 9.45l-7.72 7.72c-.78.78-.78 2.05 0 2.83L4 21.41c.39.39.9.59 1.41.59.51 0 1.02-.2 1.41-.59l7.78-7.78 2.81-2.81c.8-.78.8-2.07 0-2.86zM5.41 20L4 18.59l7.72-7.72 1.47 1.35L5.41 20z\"/>\n",
              "  </svg>\n",
              "      </button>\n",
              "      \n",
              "  <style>\n",
              "    .colab-df-container {\n",
              "      display:flex;\n",
              "      flex-wrap:wrap;\n",
              "      gap: 12px;\n",
              "    }\n",
              "\n",
              "    .colab-df-convert {\n",
              "      background-color: #E8F0FE;\n",
              "      border: none;\n",
              "      border-radius: 50%;\n",
              "      cursor: pointer;\n",
              "      display: none;\n",
              "      fill: #1967D2;\n",
              "      height: 32px;\n",
              "      padding: 0 0 0 0;\n",
              "      width: 32px;\n",
              "    }\n",
              "\n",
              "    .colab-df-convert:hover {\n",
              "      background-color: #E2EBFA;\n",
              "      box-shadow: 0px 1px 2px rgba(60, 64, 67, 0.3), 0px 1px 3px 1px rgba(60, 64, 67, 0.15);\n",
              "      fill: #174EA6;\n",
              "    }\n",
              "\n",
              "    [theme=dark] .colab-df-convert {\n",
              "      background-color: #3B4455;\n",
              "      fill: #D2E3FC;\n",
              "    }\n",
              "\n",
              "    [theme=dark] .colab-df-convert:hover {\n",
              "      background-color: #434B5C;\n",
              "      box-shadow: 0px 1px 3px 1px rgba(0, 0, 0, 0.15);\n",
              "      filter: drop-shadow(0px 1px 2px rgba(0, 0, 0, 0.3));\n",
              "      fill: #FFFFFF;\n",
              "    }\n",
              "  </style>\n",
              "\n",
              "      <script>\n",
              "        const buttonEl =\n",
              "          document.querySelector('#df-35082bc5-3eb5-4494-bbc3-7a6adfb7b04d button.colab-df-convert');\n",
              "        buttonEl.style.display =\n",
              "          google.colab.kernel.accessAllowed ? 'block' : 'none';\n",
              "\n",
              "        async function convertToInteractive(key) {\n",
              "          const element = document.querySelector('#df-35082bc5-3eb5-4494-bbc3-7a6adfb7b04d');\n",
              "          const dataTable =\n",
              "            await google.colab.kernel.invokeFunction('convertToInteractive',\n",
              "                                                     [key], {});\n",
              "          if (!dataTable) return;\n",
              "\n",
              "          const docLinkHtml = 'Like what you see? Visit the ' +\n",
              "            '<a target=\"_blank\" href=https://colab.research.google.com/notebooks/data_table.ipynb>data table notebook</a>'\n",
              "            + ' to learn more about interactive tables.';\n",
              "          element.innerHTML = '';\n",
              "          dataTable['output_type'] = 'display_data';\n",
              "          await google.colab.output.renderOutput(dataTable, element);\n",
              "          const docLink = document.createElement('div');\n",
              "          docLink.innerHTML = docLinkHtml;\n",
              "          element.appendChild(docLink);\n",
              "        }\n",
              "      </script>\n",
              "    </div>\n",
              "  </div>\n",
              "  "
            ],
            "text/plain": [
              "   customer_id              address  ...    country property_valuation\n",
              "0            1   060 Morning Avenue  ...  Australia                 10\n",
              "1            2  6 Meadow Vale Court  ...  Australia                 10\n",
              "2            4   0 Holy Cross Court  ...  Australia                  9\n",
              "3            5  17979 Del Mar Point  ...  Australia                  4\n",
              "4            6     9 Oakridge Court  ...  Australia                  9\n",
              "\n",
              "[5 rows x 6 columns]"
            ]
          },
          "metadata": {},
          "execution_count": 405
        }
      ]
    },
    {
      "cell_type": "code",
      "source": [
        "#no nulls\n",
        "df_addresses.info()"
      ],
      "metadata": {
        "colab": {
          "base_uri": "https://localhost:8080/"
        },
        "id": "SIY9n2qFIKF2",
        "outputId": "2c71a95b-2929-4189-8b40-99ba7da2ae80"
      },
      "execution_count": 406,
      "outputs": [
        {
          "output_type": "stream",
          "name": "stdout",
          "text": [
            "<class 'pandas.core.frame.DataFrame'>\n",
            "RangeIndex: 3999 entries, 0 to 3998\n",
            "Data columns (total 6 columns):\n",
            " #   Column              Non-Null Count  Dtype \n",
            "---  ------              --------------  ----- \n",
            " 0   customer_id         3999 non-null   int64 \n",
            " 1   address             3999 non-null   object\n",
            " 2   postcode            3999 non-null   int64 \n",
            " 3   state               3999 non-null   object\n",
            " 4   country             3999 non-null   object\n",
            " 5   property_valuation  3999 non-null   int64 \n",
            "dtypes: int64(3), object(3)\n",
            "memory usage: 187.6+ KB\n"
          ]
        }
      ]
    },
    {
      "cell_type": "code",
      "source": [
        "df_addresses.duplicated().sum()"
      ],
      "metadata": {
        "colab": {
          "base_uri": "https://localhost:8080/"
        },
        "id": "jaVHuRWcKdA_",
        "outputId": "14e63b6c-9211-424f-e2e3-836e7af6d490"
      },
      "execution_count": 407,
      "outputs": [
        {
          "output_type": "execute_result",
          "data": {
            "text/plain": [
              "0"
            ]
          },
          "metadata": {},
          "execution_count": 407
        }
      ]
    },
    {
      "cell_type": "code",
      "source": [
        "#unique\n",
        "df_addresses.nunique()"
      ],
      "metadata": {
        "colab": {
          "base_uri": "https://localhost:8080/"
        },
        "id": "Y2xVt-roIT-N",
        "outputId": "49ab0cd9-62b9-4ec8-bc7c-bcf34ae33d34"
      },
      "execution_count": 408,
      "outputs": [
        {
          "output_type": "execute_result",
          "data": {
            "text/plain": [
              "customer_id           3999\n",
              "address               3996\n",
              "postcode               873\n",
              "state                    5\n",
              "country                  1\n",
              "property_valuation      12\n",
              "dtype: int64"
            ]
          },
          "metadata": {},
          "execution_count": 408
        }
      ]
    },
    {
      "cell_type": "code",
      "source": [
        "#replacing other values\n",
        "df_addresses['state'].value_counts()"
      ],
      "metadata": {
        "colab": {
          "base_uri": "https://localhost:8080/"
        },
        "id": "SaaA31cGJJab",
        "outputId": "95f1603a-05be-4bfb-f3d3-e6d9fea380a4"
      },
      "execution_count": 409,
      "outputs": [
        {
          "output_type": "execute_result",
          "data": {
            "text/plain": [
              "NSW                2054\n",
              "VIC                 939\n",
              "QLD                 838\n",
              "New South Wales      86\n",
              "Victoria             82\n",
              "Name: state, dtype: int64"
            ]
          },
          "metadata": {},
          "execution_count": 409
        }
      ]
    },
    {
      "cell_type": "code",
      "source": [
        "df_addresses['state'].replace({'New South Wales':'NSW','Victoria':'VIC'},inplace=True)"
      ],
      "metadata": {
        "id": "Rm2ZlhIWJTFW"
      },
      "execution_count": 410,
      "outputs": []
    },
    {
      "cell_type": "code",
      "source": [
        "customer_address = df_addresses.copy()"
      ],
      "metadata": {
        "id": "HZVBw6y1DZO4"
      },
      "execution_count": 411,
      "outputs": []
    },
    {
      "cell_type": "markdown",
      "source": [
        "Everything else looks fine!"
      ],
      "metadata": {
        "id": "pFwJALEFJ2Gn"
      }
    },
    {
      "cell_type": "markdown",
      "source": [
        "**New Customer List**"
      ],
      "metadata": {
        "id": "FO9MKCtwJ96O"
      }
    },
    {
      "cell_type": "code",
      "source": [
        "#reading data\n",
        "df_ncustomers = pd.read_excel(xls, sheet_name=2,header=1)"
      ],
      "metadata": {
        "id": "7yM32IkmJkWf"
      },
      "execution_count": 412,
      "outputs": []
    },
    {
      "cell_type": "code",
      "source": [
        "df_ncustomers.head()"
      ],
      "metadata": {
        "colab": {
          "base_uri": "https://localhost:8080/",
          "height": 461
        },
        "id": "T9sTVusfKMBS",
        "outputId": "94219e7c-3ff7-4b6c-8c6e-a2a7cff7d79e"
      },
      "execution_count": 413,
      "outputs": [
        {
          "output_type": "execute_result",
          "data": {
            "text/html": [
              "\n",
              "  <div id=\"df-456230b7-9a40-42d1-a736-11484574ddef\">\n",
              "    <div class=\"colab-df-container\">\n",
              "      <div>\n",
              "<style scoped>\n",
              "    .dataframe tbody tr th:only-of-type {\n",
              "        vertical-align: middle;\n",
              "    }\n",
              "\n",
              "    .dataframe tbody tr th {\n",
              "        vertical-align: top;\n",
              "    }\n",
              "\n",
              "    .dataframe thead th {\n",
              "        text-align: right;\n",
              "    }\n",
              "</style>\n",
              "<table border=\"1\" class=\"dataframe\">\n",
              "  <thead>\n",
              "    <tr style=\"text-align: right;\">\n",
              "      <th></th>\n",
              "      <th>first_name</th>\n",
              "      <th>last_name</th>\n",
              "      <th>gender</th>\n",
              "      <th>past_3_years_bike_related_purchases</th>\n",
              "      <th>DOB</th>\n",
              "      <th>job_title</th>\n",
              "      <th>job_industry_category</th>\n",
              "      <th>wealth_segment</th>\n",
              "      <th>deceased_indicator</th>\n",
              "      <th>owns_car</th>\n",
              "      <th>tenure</th>\n",
              "      <th>address</th>\n",
              "      <th>postcode</th>\n",
              "      <th>state</th>\n",
              "      <th>country</th>\n",
              "      <th>property_valuation</th>\n",
              "      <th>Unnamed: 16</th>\n",
              "      <th>Unnamed: 17</th>\n",
              "      <th>Unnamed: 18</th>\n",
              "      <th>Unnamed: 19</th>\n",
              "      <th>Unnamed: 20</th>\n",
              "      <th>Rank</th>\n",
              "      <th>Value</th>\n",
              "    </tr>\n",
              "  </thead>\n",
              "  <tbody>\n",
              "    <tr>\n",
              "      <th>0</th>\n",
              "      <td>Chickie</td>\n",
              "      <td>Brister</td>\n",
              "      <td>Male</td>\n",
              "      <td>86</td>\n",
              "      <td>1957-07-12</td>\n",
              "      <td>General Manager</td>\n",
              "      <td>Manufacturing</td>\n",
              "      <td>Mass Customer</td>\n",
              "      <td>N</td>\n",
              "      <td>Yes</td>\n",
              "      <td>14</td>\n",
              "      <td>45 Shopko Center</td>\n",
              "      <td>4500</td>\n",
              "      <td>QLD</td>\n",
              "      <td>Australia</td>\n",
              "      <td>6</td>\n",
              "      <td>0.63</td>\n",
              "      <td>0.7875</td>\n",
              "      <td>0.984375</td>\n",
              "      <td>0.836719</td>\n",
              "      <td>1</td>\n",
              "      <td>1</td>\n",
              "      <td>1.718750</td>\n",
              "    </tr>\n",
              "    <tr>\n",
              "      <th>1</th>\n",
              "      <td>Morly</td>\n",
              "      <td>Genery</td>\n",
              "      <td>Male</td>\n",
              "      <td>69</td>\n",
              "      <td>1970-03-22</td>\n",
              "      <td>Structural Engineer</td>\n",
              "      <td>Property</td>\n",
              "      <td>Mass Customer</td>\n",
              "      <td>N</td>\n",
              "      <td>No</td>\n",
              "      <td>16</td>\n",
              "      <td>14 Mccormick Park</td>\n",
              "      <td>2113</td>\n",
              "      <td>NSW</td>\n",
              "      <td>Australia</td>\n",
              "      <td>11</td>\n",
              "      <td>0.56</td>\n",
              "      <td>0.5600</td>\n",
              "      <td>0.700000</td>\n",
              "      <td>0.595000</td>\n",
              "      <td>1</td>\n",
              "      <td>1</td>\n",
              "      <td>1.718750</td>\n",
              "    </tr>\n",
              "    <tr>\n",
              "      <th>2</th>\n",
              "      <td>Ardelis</td>\n",
              "      <td>Forrester</td>\n",
              "      <td>Female</td>\n",
              "      <td>10</td>\n",
              "      <td>1974-08-28</td>\n",
              "      <td>Senior Cost Accountant</td>\n",
              "      <td>Financial Services</td>\n",
              "      <td>Affluent Customer</td>\n",
              "      <td>N</td>\n",
              "      <td>No</td>\n",
              "      <td>10</td>\n",
              "      <td>5 Colorado Crossing</td>\n",
              "      <td>3505</td>\n",
              "      <td>VIC</td>\n",
              "      <td>Australia</td>\n",
              "      <td>5</td>\n",
              "      <td>0.94</td>\n",
              "      <td>0.9400</td>\n",
              "      <td>0.940000</td>\n",
              "      <td>0.940000</td>\n",
              "      <td>1</td>\n",
              "      <td>1</td>\n",
              "      <td>1.718750</td>\n",
              "    </tr>\n",
              "    <tr>\n",
              "      <th>3</th>\n",
              "      <td>Lucine</td>\n",
              "      <td>Stutt</td>\n",
              "      <td>Female</td>\n",
              "      <td>64</td>\n",
              "      <td>1979-01-28</td>\n",
              "      <td>Account Representative III</td>\n",
              "      <td>Manufacturing</td>\n",
              "      <td>Affluent Customer</td>\n",
              "      <td>N</td>\n",
              "      <td>Yes</td>\n",
              "      <td>5</td>\n",
              "      <td>207 Annamark Plaza</td>\n",
              "      <td>4814</td>\n",
              "      <td>QLD</td>\n",
              "      <td>Australia</td>\n",
              "      <td>1</td>\n",
              "      <td>0.63</td>\n",
              "      <td>0.7875</td>\n",
              "      <td>0.787500</td>\n",
              "      <td>0.787500</td>\n",
              "      <td>4</td>\n",
              "      <td>4</td>\n",
              "      <td>1.703125</td>\n",
              "    </tr>\n",
              "    <tr>\n",
              "      <th>4</th>\n",
              "      <td>Melinda</td>\n",
              "      <td>Hadlee</td>\n",
              "      <td>Female</td>\n",
              "      <td>34</td>\n",
              "      <td>1965-09-21</td>\n",
              "      <td>Financial Analyst</td>\n",
              "      <td>Financial Services</td>\n",
              "      <td>Affluent Customer</td>\n",
              "      <td>N</td>\n",
              "      <td>No</td>\n",
              "      <td>19</td>\n",
              "      <td>115 Montana Place</td>\n",
              "      <td>2093</td>\n",
              "      <td>NSW</td>\n",
              "      <td>Australia</td>\n",
              "      <td>9</td>\n",
              "      <td>0.80</td>\n",
              "      <td>0.8000</td>\n",
              "      <td>1.000000</td>\n",
              "      <td>1.000000</td>\n",
              "      <td>4</td>\n",
              "      <td>4</td>\n",
              "      <td>1.703125</td>\n",
              "    </tr>\n",
              "  </tbody>\n",
              "</table>\n",
              "</div>\n",
              "      <button class=\"colab-df-convert\" onclick=\"convertToInteractive('df-456230b7-9a40-42d1-a736-11484574ddef')\"\n",
              "              title=\"Convert this dataframe to an interactive table.\"\n",
              "              style=\"display:none;\">\n",
              "        \n",
              "  <svg xmlns=\"http://www.w3.org/2000/svg\" height=\"24px\"viewBox=\"0 0 24 24\"\n",
              "       width=\"24px\">\n",
              "    <path d=\"M0 0h24v24H0V0z\" fill=\"none\"/>\n",
              "    <path d=\"M18.56 5.44l.94 2.06.94-2.06 2.06-.94-2.06-.94-.94-2.06-.94 2.06-2.06.94zm-11 1L8.5 8.5l.94-2.06 2.06-.94-2.06-.94L8.5 2.5l-.94 2.06-2.06.94zm10 10l.94 2.06.94-2.06 2.06-.94-2.06-.94-.94-2.06-.94 2.06-2.06.94z\"/><path d=\"M17.41 7.96l-1.37-1.37c-.4-.4-.92-.59-1.43-.59-.52 0-1.04.2-1.43.59L10.3 9.45l-7.72 7.72c-.78.78-.78 2.05 0 2.83L4 21.41c.39.39.9.59 1.41.59.51 0 1.02-.2 1.41-.59l7.78-7.78 2.81-2.81c.8-.78.8-2.07 0-2.86zM5.41 20L4 18.59l7.72-7.72 1.47 1.35L5.41 20z\"/>\n",
              "  </svg>\n",
              "      </button>\n",
              "      \n",
              "  <style>\n",
              "    .colab-df-container {\n",
              "      display:flex;\n",
              "      flex-wrap:wrap;\n",
              "      gap: 12px;\n",
              "    }\n",
              "\n",
              "    .colab-df-convert {\n",
              "      background-color: #E8F0FE;\n",
              "      border: none;\n",
              "      border-radius: 50%;\n",
              "      cursor: pointer;\n",
              "      display: none;\n",
              "      fill: #1967D2;\n",
              "      height: 32px;\n",
              "      padding: 0 0 0 0;\n",
              "      width: 32px;\n",
              "    }\n",
              "\n",
              "    .colab-df-convert:hover {\n",
              "      background-color: #E2EBFA;\n",
              "      box-shadow: 0px 1px 2px rgba(60, 64, 67, 0.3), 0px 1px 3px 1px rgba(60, 64, 67, 0.15);\n",
              "      fill: #174EA6;\n",
              "    }\n",
              "\n",
              "    [theme=dark] .colab-df-convert {\n",
              "      background-color: #3B4455;\n",
              "      fill: #D2E3FC;\n",
              "    }\n",
              "\n",
              "    [theme=dark] .colab-df-convert:hover {\n",
              "      background-color: #434B5C;\n",
              "      box-shadow: 0px 1px 3px 1px rgba(0, 0, 0, 0.15);\n",
              "      filter: drop-shadow(0px 1px 2px rgba(0, 0, 0, 0.3));\n",
              "      fill: #FFFFFF;\n",
              "    }\n",
              "  </style>\n",
              "\n",
              "      <script>\n",
              "        const buttonEl =\n",
              "          document.querySelector('#df-456230b7-9a40-42d1-a736-11484574ddef button.colab-df-convert');\n",
              "        buttonEl.style.display =\n",
              "          google.colab.kernel.accessAllowed ? 'block' : 'none';\n",
              "\n",
              "        async function convertToInteractive(key) {\n",
              "          const element = document.querySelector('#df-456230b7-9a40-42d1-a736-11484574ddef');\n",
              "          const dataTable =\n",
              "            await google.colab.kernel.invokeFunction('convertToInteractive',\n",
              "                                                     [key], {});\n",
              "          if (!dataTable) return;\n",
              "\n",
              "          const docLinkHtml = 'Like what you see? Visit the ' +\n",
              "            '<a target=\"_blank\" href=https://colab.research.google.com/notebooks/data_table.ipynb>data table notebook</a>'\n",
              "            + ' to learn more about interactive tables.';\n",
              "          element.innerHTML = '';\n",
              "          dataTable['output_type'] = 'display_data';\n",
              "          await google.colab.output.renderOutput(dataTable, element);\n",
              "          const docLink = document.createElement('div');\n",
              "          docLink.innerHTML = docLinkHtml;\n",
              "          element.appendChild(docLink);\n",
              "        }\n",
              "      </script>\n",
              "    </div>\n",
              "  </div>\n",
              "  "
            ],
            "text/plain": [
              "  first_name  last_name  gender  ...  Unnamed: 20 Rank     Value\n",
              "0    Chickie    Brister    Male  ...            1    1  1.718750\n",
              "1      Morly     Genery    Male  ...            1    1  1.718750\n",
              "2    Ardelis  Forrester  Female  ...            1    1  1.718750\n",
              "3     Lucine      Stutt  Female  ...            4    4  1.703125\n",
              "4    Melinda     Hadlee  Female  ...            4    4  1.703125\n",
              "\n",
              "[5 rows x 23 columns]"
            ]
          },
          "metadata": {},
          "execution_count": 413
        }
      ]
    },
    {
      "cell_type": "code",
      "source": [
        "#info\n",
        "df_ncustomers.info()"
      ],
      "metadata": {
        "colab": {
          "base_uri": "https://localhost:8080/"
        },
        "id": "W8T7AGToKO7y",
        "outputId": "99e9be90-5e54-43a9-b8c6-ad39fd62dd2d"
      },
      "execution_count": 414,
      "outputs": [
        {
          "output_type": "stream",
          "name": "stdout",
          "text": [
            "<class 'pandas.core.frame.DataFrame'>\n",
            "RangeIndex: 1000 entries, 0 to 999\n",
            "Data columns (total 23 columns):\n",
            " #   Column                               Non-Null Count  Dtype         \n",
            "---  ------                               --------------  -----         \n",
            " 0   first_name                           1000 non-null   object        \n",
            " 1   last_name                            971 non-null    object        \n",
            " 2   gender                               1000 non-null   object        \n",
            " 3   past_3_years_bike_related_purchases  1000 non-null   int64         \n",
            " 4   DOB                                  983 non-null    datetime64[ns]\n",
            " 5   job_title                            894 non-null    object        \n",
            " 6   job_industry_category                835 non-null    object        \n",
            " 7   wealth_segment                       1000 non-null   object        \n",
            " 8   deceased_indicator                   1000 non-null   object        \n",
            " 9   owns_car                             1000 non-null   object        \n",
            " 10  tenure                               1000 non-null   int64         \n",
            " 11  address                              1000 non-null   object        \n",
            " 12  postcode                             1000 non-null   int64         \n",
            " 13  state                                1000 non-null   object        \n",
            " 14  country                              1000 non-null   object        \n",
            " 15  property_valuation                   1000 non-null   int64         \n",
            " 16  Unnamed: 16                          1000 non-null   float64       \n",
            " 17  Unnamed: 17                          1000 non-null   float64       \n",
            " 18  Unnamed: 18                          1000 non-null   float64       \n",
            " 19  Unnamed: 19                          1000 non-null   float64       \n",
            " 20  Unnamed: 20                          1000 non-null   int64         \n",
            " 21  Rank                                 1000 non-null   int64         \n",
            " 22  Value                                1000 non-null   float64       \n",
            "dtypes: datetime64[ns](1), float64(5), int64(6), object(11)\n",
            "memory usage: 179.8+ KB\n"
          ]
        }
      ]
    },
    {
      "cell_type": "code",
      "source": [
        "#null values\n",
        "df_ncustomers.isnull().sum()"
      ],
      "metadata": {
        "colab": {
          "base_uri": "https://localhost:8080/"
        },
        "id": "wBQfegZUKYWP",
        "outputId": "9470500d-f444-49ea-e2c7-3ba79ab6bdca"
      },
      "execution_count": 415,
      "outputs": [
        {
          "output_type": "execute_result",
          "data": {
            "text/plain": [
              "first_name                               0\n",
              "last_name                               29\n",
              "gender                                   0\n",
              "past_3_years_bike_related_purchases      0\n",
              "DOB                                     17\n",
              "job_title                              106\n",
              "job_industry_category                  165\n",
              "wealth_segment                           0\n",
              "deceased_indicator                       0\n",
              "owns_car                                 0\n",
              "tenure                                   0\n",
              "address                                  0\n",
              "postcode                                 0\n",
              "state                                    0\n",
              "country                                  0\n",
              "property_valuation                       0\n",
              "Unnamed: 16                              0\n",
              "Unnamed: 17                              0\n",
              "Unnamed: 18                              0\n",
              "Unnamed: 19                              0\n",
              "Unnamed: 20                              0\n",
              "Rank                                     0\n",
              "Value                                    0\n",
              "dtype: int64"
            ]
          },
          "metadata": {},
          "execution_count": 415
        }
      ]
    },
    {
      "cell_type": "code",
      "source": [
        "#duplicates\n",
        "df_ncustomers.duplicated().sum()"
      ],
      "metadata": {
        "colab": {
          "base_uri": "https://localhost:8080/"
        },
        "id": "ogyIfT6-KsVO",
        "outputId": "cf552249-9b3e-4203-f006-9d81b46fc036"
      },
      "execution_count": 416,
      "outputs": [
        {
          "output_type": "execute_result",
          "data": {
            "text/plain": [
              "0"
            ]
          },
          "metadata": {},
          "execution_count": 416
        }
      ]
    },
    {
      "cell_type": "code",
      "source": [
        "df_ncustomers.nunique()"
      ],
      "metadata": {
        "id": "ZvFV8CUhwMHU",
        "outputId": "22815a41-8052-42ed-b36a-56e22f8e51ad",
        "colab": {
          "base_uri": "https://localhost:8080/"
        }
      },
      "execution_count": 417,
      "outputs": [
        {
          "output_type": "execute_result",
          "data": {
            "text/plain": [
              "first_name                              940\n",
              "last_name                               961\n",
              "gender                                    3\n",
              "past_3_years_bike_related_purchases     100\n",
              "DOB                                     958\n",
              "job_title                               184\n",
              "job_industry_category                     9\n",
              "wealth_segment                            3\n",
              "deceased_indicator                        1\n",
              "owns_car                                  2\n",
              "tenure                                   23\n",
              "address                                1000\n",
              "postcode                                522\n",
              "state                                     3\n",
              "country                                   1\n",
              "property_valuation                       12\n",
              "Unnamed: 16                              71\n",
              "Unnamed: 17                             129\n",
              "Unnamed: 18                             182\n",
              "Unnamed: 19                             318\n",
              "Unnamed: 20                             324\n",
              "Rank                                    324\n",
              "Value                                   324\n",
              "dtype: int64"
            ]
          },
          "metadata": {},
          "execution_count": 417
        }
      ]
    },
    {
      "cell_type": "code",
      "source": [
        "df_ncustomers.drop(['Unnamed: 16','Unnamed: 17','Unnamed: 18','Unnamed: 19','Unnamed: 20'],axis=1,inplace=True)"
      ],
      "metadata": {
        "id": "pg1UcJPvI4VK"
      },
      "execution_count": 418,
      "outputs": []
    },
    {
      "cell_type": "code",
      "source": [
        "#some missing last names in new customer list\n",
        "df_ncustomers['last_name'] = df_ncustomers.groupby('first_name').last_name.bfill().ffill()"
      ],
      "metadata": {
        "id": "Lp1yJb1CJYWs"
      },
      "execution_count": 419,
      "outputs": []
    },
    {
      "cell_type": "code",
      "source": [
        "#gender\n",
        "df_ncustomers['gender'].value_counts()"
      ],
      "metadata": {
        "colab": {
          "base_uri": "https://localhost:8080/"
        },
        "id": "nUsJxg8KK5P6",
        "outputId": "b3874e6a-0dc0-4ee8-d6b6-2da5cfb96a9c"
      },
      "execution_count": 420,
      "outputs": [
        {
          "output_type": "execute_result",
          "data": {
            "text/plain": [
              "Female    513\n",
              "Male      470\n",
              "U          17\n",
              "Name: gender, dtype: int64"
            ]
          },
          "metadata": {},
          "execution_count": 420
        }
      ]
    },
    {
      "cell_type": "code",
      "source": [
        "df_ncustomers['gender'].replace({'U':'Unspecified'},inplace=True)"
      ],
      "metadata": {
        "id": "PT6w5mXVOnP4"
      },
      "execution_count": 421,
      "outputs": []
    },
    {
      "cell_type": "code",
      "source": [
        "#dob\n",
        "df_ncustomers['DOB'].describe()"
      ],
      "metadata": {
        "colab": {
          "base_uri": "https://localhost:8080/"
        },
        "id": "NX-T6aZFLdkz",
        "outputId": "f5c68c23-6783-451d-efc2-6957c53653e3"
      },
      "execution_count": 422,
      "outputs": [
        {
          "output_type": "stream",
          "name": "stderr",
          "text": [
            "/usr/local/lib/python3.7/dist-packages/ipykernel_launcher.py:2: FutureWarning: Treating datetime data as categorical rather than numeric in `.describe` is deprecated and will be removed in a future version of pandas. Specify `datetime_is_numeric=True` to silence this warning and adopt the future behavior now.\n",
            "  \n"
          ]
        },
        {
          "output_type": "execute_result",
          "data": {
            "text/plain": [
              "count                     983\n",
              "unique                    958\n",
              "top       1961-07-31 00:00:00\n",
              "freq                        2\n",
              "first     1938-06-08 00:00:00\n",
              "last      2002-02-27 00:00:00\n",
              "Name: DOB, dtype: object"
            ]
          },
          "metadata": {},
          "execution_count": 422
        }
      ]
    },
    {
      "cell_type": "code",
      "source": [
        "df_ncustomers['DOB'].fillna(lambda x: np.random.choice(df_ncustomers['DOB']), inplace=True)"
      ],
      "metadata": {
        "id": "ZW_LFgBbJve3"
      },
      "execution_count": 423,
      "outputs": []
    },
    {
      "cell_type": "code",
      "source": [
        "df_ncustomers['state'].value_counts()"
      ],
      "metadata": {
        "colab": {
          "base_uri": "https://localhost:8080/"
        },
        "id": "CkwI9iUrMAKP",
        "outputId": "ff8b9890-75e8-4d88-9898-8be752353cd6"
      },
      "execution_count": 424,
      "outputs": [
        {
          "output_type": "execute_result",
          "data": {
            "text/plain": [
              "NSW    506\n",
              "VIC    266\n",
              "QLD    228\n",
              "Name: state, dtype: int64"
            ]
          },
          "metadata": {},
          "execution_count": 424
        }
      ]
    },
    {
      "cell_type": "code",
      "source": [
        "df_ncustomers['job_title'].value_counts()"
      ],
      "metadata": {
        "colab": {
          "base_uri": "https://localhost:8080/"
        },
        "id": "H_u70-GMKO4A",
        "outputId": "850afc6f-3d56-4d62-bd0f-a37c9ef1d98e"
      },
      "execution_count": 425,
      "outputs": [
        {
          "output_type": "execute_result",
          "data": {
            "text/plain": [
              "Associate Professor             15\n",
              "Environmental Tech              14\n",
              "Software Consultant             14\n",
              "Chief Design Engineer           13\n",
              "Assistant Media Planner         12\n",
              "                                ..\n",
              "Budget/Accounting Analyst II     1\n",
              "Accounting Assistant II          1\n",
              "Database Administrator IV        1\n",
              "Administrative Officer           1\n",
              "Safety Technician II             1\n",
              "Name: job_title, Length: 184, dtype: int64"
            ]
          },
          "metadata": {},
          "execution_count": 425
        }
      ]
    },
    {
      "cell_type": "code",
      "source": [
        "df_ncustomers['job_title']= df_ncustomers['job_title'].fillna(method='bfill')"
      ],
      "metadata": {
        "id": "tyqNMW4pKWJX"
      },
      "execution_count": 426,
      "outputs": []
    },
    {
      "cell_type": "code",
      "source": [
        "df_ncustomers['job_industry_category'].value_counts()"
      ],
      "metadata": {
        "colab": {
          "base_uri": "https://localhost:8080/"
        },
        "id": "2AGZmOEFKey5",
        "outputId": "21aa328e-c614-4a25-f123-86829a612cf6"
      },
      "execution_count": 427,
      "outputs": [
        {
          "output_type": "execute_result",
          "data": {
            "text/plain": [
              "Financial Services    203\n",
              "Manufacturing         199\n",
              "Health                152\n",
              "Retail                 78\n",
              "Property               64\n",
              "IT                     51\n",
              "Entertainment          37\n",
              "Argiculture            26\n",
              "Telecommunications     25\n",
              "Name: job_industry_category, dtype: int64"
            ]
          },
          "metadata": {},
          "execution_count": 427
        }
      ]
    },
    {
      "cell_type": "code",
      "source": [
        "df_ncustomers['job_industry_category']= df_ncustomers['job_industry_category'].fillna(method='ffill')"
      ],
      "metadata": {
        "id": "LWFI_LcXKl8l"
      },
      "execution_count": 428,
      "outputs": []
    },
    {
      "cell_type": "code",
      "source": [
        "new_customers = df_ncustomers.copy()"
      ],
      "metadata": {
        "id": "2adIk-buKxbA"
      },
      "execution_count": 429,
      "outputs": []
    },
    {
      "cell_type": "markdown",
      "source": [
        "**Transactions**\n"
      ],
      "metadata": {
        "id": "4GPdGJboM2R1"
      }
    },
    {
      "cell_type": "code",
      "source": [
        "#reading data\n",
        "df_transactions = pd.read_excel(xls, sheet_name=1,header=1)"
      ],
      "metadata": {
        "id": "xqLNFr7mMj1J"
      },
      "execution_count": 430,
      "outputs": []
    },
    {
      "cell_type": "code",
      "source": [
        "df_transactions.head()"
      ],
      "metadata": {
        "colab": {
          "base_uri": "https://localhost:8080/",
          "height": 340
        },
        "id": "H7L4I6ybNF6i",
        "outputId": "1d57a27f-cdb8-4c60-bb11-b081a7bc0e4c"
      },
      "execution_count": 431,
      "outputs": [
        {
          "output_type": "execute_result",
          "data": {
            "text/html": [
              "\n",
              "  <div id=\"df-33933fbc-c0e2-4f2e-8e74-a8a52f95fac1\">\n",
              "    <div class=\"colab-df-container\">\n",
              "      <div>\n",
              "<style scoped>\n",
              "    .dataframe tbody tr th:only-of-type {\n",
              "        vertical-align: middle;\n",
              "    }\n",
              "\n",
              "    .dataframe tbody tr th {\n",
              "        vertical-align: top;\n",
              "    }\n",
              "\n",
              "    .dataframe thead th {\n",
              "        text-align: right;\n",
              "    }\n",
              "</style>\n",
              "<table border=\"1\" class=\"dataframe\">\n",
              "  <thead>\n",
              "    <tr style=\"text-align: right;\">\n",
              "      <th></th>\n",
              "      <th>transaction_id</th>\n",
              "      <th>product_id</th>\n",
              "      <th>customer_id</th>\n",
              "      <th>transaction_date</th>\n",
              "      <th>online_order</th>\n",
              "      <th>order_status</th>\n",
              "      <th>brand</th>\n",
              "      <th>product_line</th>\n",
              "      <th>product_class</th>\n",
              "      <th>product_size</th>\n",
              "      <th>list_price</th>\n",
              "      <th>standard_cost</th>\n",
              "      <th>product_first_sold_date</th>\n",
              "    </tr>\n",
              "  </thead>\n",
              "  <tbody>\n",
              "    <tr>\n",
              "      <th>0</th>\n",
              "      <td>1</td>\n",
              "      <td>2</td>\n",
              "      <td>2950</td>\n",
              "      <td>2017-02-25</td>\n",
              "      <td>0.0</td>\n",
              "      <td>Approved</td>\n",
              "      <td>Solex</td>\n",
              "      <td>Standard</td>\n",
              "      <td>medium</td>\n",
              "      <td>medium</td>\n",
              "      <td>71.49</td>\n",
              "      <td>53.62</td>\n",
              "      <td>41245.0</td>\n",
              "    </tr>\n",
              "    <tr>\n",
              "      <th>1</th>\n",
              "      <td>2</td>\n",
              "      <td>3</td>\n",
              "      <td>3120</td>\n",
              "      <td>2017-05-21</td>\n",
              "      <td>1.0</td>\n",
              "      <td>Approved</td>\n",
              "      <td>Trek Bicycles</td>\n",
              "      <td>Standard</td>\n",
              "      <td>medium</td>\n",
              "      <td>large</td>\n",
              "      <td>2091.47</td>\n",
              "      <td>388.92</td>\n",
              "      <td>41701.0</td>\n",
              "    </tr>\n",
              "    <tr>\n",
              "      <th>2</th>\n",
              "      <td>3</td>\n",
              "      <td>37</td>\n",
              "      <td>402</td>\n",
              "      <td>2017-10-16</td>\n",
              "      <td>0.0</td>\n",
              "      <td>Approved</td>\n",
              "      <td>OHM Cycles</td>\n",
              "      <td>Standard</td>\n",
              "      <td>low</td>\n",
              "      <td>medium</td>\n",
              "      <td>1793.43</td>\n",
              "      <td>248.82</td>\n",
              "      <td>36361.0</td>\n",
              "    </tr>\n",
              "    <tr>\n",
              "      <th>3</th>\n",
              "      <td>4</td>\n",
              "      <td>88</td>\n",
              "      <td>3135</td>\n",
              "      <td>2017-08-31</td>\n",
              "      <td>0.0</td>\n",
              "      <td>Approved</td>\n",
              "      <td>Norco Bicycles</td>\n",
              "      <td>Standard</td>\n",
              "      <td>medium</td>\n",
              "      <td>medium</td>\n",
              "      <td>1198.46</td>\n",
              "      <td>381.10</td>\n",
              "      <td>36145.0</td>\n",
              "    </tr>\n",
              "    <tr>\n",
              "      <th>4</th>\n",
              "      <td>5</td>\n",
              "      <td>78</td>\n",
              "      <td>787</td>\n",
              "      <td>2017-10-01</td>\n",
              "      <td>1.0</td>\n",
              "      <td>Approved</td>\n",
              "      <td>Giant Bicycles</td>\n",
              "      <td>Standard</td>\n",
              "      <td>medium</td>\n",
              "      <td>large</td>\n",
              "      <td>1765.30</td>\n",
              "      <td>709.48</td>\n",
              "      <td>42226.0</td>\n",
              "    </tr>\n",
              "  </tbody>\n",
              "</table>\n",
              "</div>\n",
              "      <button class=\"colab-df-convert\" onclick=\"convertToInteractive('df-33933fbc-c0e2-4f2e-8e74-a8a52f95fac1')\"\n",
              "              title=\"Convert this dataframe to an interactive table.\"\n",
              "              style=\"display:none;\">\n",
              "        \n",
              "  <svg xmlns=\"http://www.w3.org/2000/svg\" height=\"24px\"viewBox=\"0 0 24 24\"\n",
              "       width=\"24px\">\n",
              "    <path d=\"M0 0h24v24H0V0z\" fill=\"none\"/>\n",
              "    <path d=\"M18.56 5.44l.94 2.06.94-2.06 2.06-.94-2.06-.94-.94-2.06-.94 2.06-2.06.94zm-11 1L8.5 8.5l.94-2.06 2.06-.94-2.06-.94L8.5 2.5l-.94 2.06-2.06.94zm10 10l.94 2.06.94-2.06 2.06-.94-2.06-.94-.94-2.06-.94 2.06-2.06.94z\"/><path d=\"M17.41 7.96l-1.37-1.37c-.4-.4-.92-.59-1.43-.59-.52 0-1.04.2-1.43.59L10.3 9.45l-7.72 7.72c-.78.78-.78 2.05 0 2.83L4 21.41c.39.39.9.59 1.41.59.51 0 1.02-.2 1.41-.59l7.78-7.78 2.81-2.81c.8-.78.8-2.07 0-2.86zM5.41 20L4 18.59l7.72-7.72 1.47 1.35L5.41 20z\"/>\n",
              "  </svg>\n",
              "      </button>\n",
              "      \n",
              "  <style>\n",
              "    .colab-df-container {\n",
              "      display:flex;\n",
              "      flex-wrap:wrap;\n",
              "      gap: 12px;\n",
              "    }\n",
              "\n",
              "    .colab-df-convert {\n",
              "      background-color: #E8F0FE;\n",
              "      border: none;\n",
              "      border-radius: 50%;\n",
              "      cursor: pointer;\n",
              "      display: none;\n",
              "      fill: #1967D2;\n",
              "      height: 32px;\n",
              "      padding: 0 0 0 0;\n",
              "      width: 32px;\n",
              "    }\n",
              "\n",
              "    .colab-df-convert:hover {\n",
              "      background-color: #E2EBFA;\n",
              "      box-shadow: 0px 1px 2px rgba(60, 64, 67, 0.3), 0px 1px 3px 1px rgba(60, 64, 67, 0.15);\n",
              "      fill: #174EA6;\n",
              "    }\n",
              "\n",
              "    [theme=dark] .colab-df-convert {\n",
              "      background-color: #3B4455;\n",
              "      fill: #D2E3FC;\n",
              "    }\n",
              "\n",
              "    [theme=dark] .colab-df-convert:hover {\n",
              "      background-color: #434B5C;\n",
              "      box-shadow: 0px 1px 3px 1px rgba(0, 0, 0, 0.15);\n",
              "      filter: drop-shadow(0px 1px 2px rgba(0, 0, 0, 0.3));\n",
              "      fill: #FFFFFF;\n",
              "    }\n",
              "  </style>\n",
              "\n",
              "      <script>\n",
              "        const buttonEl =\n",
              "          document.querySelector('#df-33933fbc-c0e2-4f2e-8e74-a8a52f95fac1 button.colab-df-convert');\n",
              "        buttonEl.style.display =\n",
              "          google.colab.kernel.accessAllowed ? 'block' : 'none';\n",
              "\n",
              "        async function convertToInteractive(key) {\n",
              "          const element = document.querySelector('#df-33933fbc-c0e2-4f2e-8e74-a8a52f95fac1');\n",
              "          const dataTable =\n",
              "            await google.colab.kernel.invokeFunction('convertToInteractive',\n",
              "                                                     [key], {});\n",
              "          if (!dataTable) return;\n",
              "\n",
              "          const docLinkHtml = 'Like what you see? Visit the ' +\n",
              "            '<a target=\"_blank\" href=https://colab.research.google.com/notebooks/data_table.ipynb>data table notebook</a>'\n",
              "            + ' to learn more about interactive tables.';\n",
              "          element.innerHTML = '';\n",
              "          dataTable['output_type'] = 'display_data';\n",
              "          await google.colab.output.renderOutput(dataTable, element);\n",
              "          const docLink = document.createElement('div');\n",
              "          docLink.innerHTML = docLinkHtml;\n",
              "          element.appendChild(docLink);\n",
              "        }\n",
              "      </script>\n",
              "    </div>\n",
              "  </div>\n",
              "  "
            ],
            "text/plain": [
              "   transaction_id  product_id  ...  standard_cost product_first_sold_date\n",
              "0               1           2  ...          53.62                 41245.0\n",
              "1               2           3  ...         388.92                 41701.0\n",
              "2               3          37  ...         248.82                 36361.0\n",
              "3               4          88  ...         381.10                 36145.0\n",
              "4               5          78  ...         709.48                 42226.0\n",
              "\n",
              "[5 rows x 13 columns]"
            ]
          },
          "metadata": {},
          "execution_count": 431
        }
      ]
    },
    {
      "cell_type": "code",
      "source": [
        "df_transactions.info()"
      ],
      "metadata": {
        "colab": {
          "base_uri": "https://localhost:8080/"
        },
        "id": "ptQY5fv1NAR5",
        "outputId": "d454e92b-36fd-44e7-dda0-e3ee0c617dc9"
      },
      "execution_count": 432,
      "outputs": [
        {
          "output_type": "stream",
          "name": "stdout",
          "text": [
            "<class 'pandas.core.frame.DataFrame'>\n",
            "RangeIndex: 20000 entries, 0 to 19999\n",
            "Data columns (total 13 columns):\n",
            " #   Column                   Non-Null Count  Dtype         \n",
            "---  ------                   --------------  -----         \n",
            " 0   transaction_id           20000 non-null  int64         \n",
            " 1   product_id               20000 non-null  int64         \n",
            " 2   customer_id              20000 non-null  int64         \n",
            " 3   transaction_date         20000 non-null  datetime64[ns]\n",
            " 4   online_order             19640 non-null  float64       \n",
            " 5   order_status             20000 non-null  object        \n",
            " 6   brand                    19803 non-null  object        \n",
            " 7   product_line             19803 non-null  object        \n",
            " 8   product_class            19803 non-null  object        \n",
            " 9   product_size             19803 non-null  object        \n",
            " 10  list_price               20000 non-null  float64       \n",
            " 11  standard_cost            19803 non-null  float64       \n",
            " 12  product_first_sold_date  19803 non-null  float64       \n",
            "dtypes: datetime64[ns](1), float64(4), int64(3), object(5)\n",
            "memory usage: 2.0+ MB\n"
          ]
        }
      ]
    },
    {
      "cell_type": "code",
      "source": [
        "df_transactions.isnull().sum()"
      ],
      "metadata": {
        "colab": {
          "base_uri": "https://localhost:8080/"
        },
        "id": "A4jAOtuDNORL",
        "outputId": "299253a2-08b0-4687-935a-d19ab47edefc"
      },
      "execution_count": 433,
      "outputs": [
        {
          "output_type": "execute_result",
          "data": {
            "text/plain": [
              "transaction_id               0\n",
              "product_id                   0\n",
              "customer_id                  0\n",
              "transaction_date             0\n",
              "online_order               360\n",
              "order_status                 0\n",
              "brand                      197\n",
              "product_line               197\n",
              "product_class              197\n",
              "product_size               197\n",
              "list_price                   0\n",
              "standard_cost              197\n",
              "product_first_sold_date    197\n",
              "dtype: int64"
            ]
          },
          "metadata": {},
          "execution_count": 433
        }
      ]
    },
    {
      "cell_type": "code",
      "source": [
        "df_transactions.nunique()"
      ],
      "metadata": {
        "colab": {
          "base_uri": "https://localhost:8080/"
        },
        "id": "1XgOagW5NFDw",
        "outputId": "718beb6a-5456-431c-ccf8-c60ac51101ae"
      },
      "execution_count": 434,
      "outputs": [
        {
          "output_type": "execute_result",
          "data": {
            "text/plain": [
              "transaction_id             20000\n",
              "product_id                   101\n",
              "customer_id                 3494\n",
              "transaction_date             364\n",
              "online_order                   2\n",
              "order_status                   2\n",
              "brand                          6\n",
              "product_line                   4\n",
              "product_class                  3\n",
              "product_size                   3\n",
              "list_price                   296\n",
              "standard_cost                103\n",
              "product_first_sold_date      100\n",
              "dtype: int64"
            ]
          },
          "metadata": {},
          "execution_count": 434
        }
      ]
    },
    {
      "cell_type": "code",
      "source": [
        "df_transactions.duplicated().sum()"
      ],
      "metadata": {
        "colab": {
          "base_uri": "https://localhost:8080/"
        },
        "id": "ADcc9i0GNncS",
        "outputId": "0f95ff94-2dbb-4041-8c5e-3ecc57941591"
      },
      "execution_count": 435,
      "outputs": [
        {
          "output_type": "execute_result",
          "data": {
            "text/plain": [
              "0"
            ]
          },
          "metadata": {},
          "execution_count": 435
        }
      ]
    },
    {
      "cell_type": "code",
      "source": [
        "#sort values\n",
        "df_transactions = df_transactions.sort_values(['customer_id', 'transaction_date'])"
      ],
      "metadata": {
        "id": "1AlU1xLUb-BA"
      },
      "execution_count": 436,
      "outputs": []
    },
    {
      "cell_type": "code",
      "source": [
        "df_transactions['online_order'].value_counts()"
      ],
      "metadata": {
        "colab": {
          "base_uri": "https://localhost:8080/"
        },
        "id": "cb_4P8eYFtTj",
        "outputId": "e6299f2d-fcfc-46db-89e2-59349a7e6afe"
      },
      "execution_count": 437,
      "outputs": [
        {
          "output_type": "execute_result",
          "data": {
            "text/plain": [
              "1.0    9829\n",
              "0.0    9811\n",
              "Name: online_order, dtype: int64"
            ]
          },
          "metadata": {},
          "execution_count": 437
        }
      ]
    },
    {
      "cell_type": "code",
      "source": [
        "df_transactions['online_order'] = df_transactions['online_order'].fillna(method='bfill')"
      ],
      "metadata": {
        "id": "GZbVXkI1d8pG"
      },
      "execution_count": 438,
      "outputs": []
    },
    {
      "cell_type": "code",
      "source": [
        "df_transactions['brand'].value_counts()"
      ],
      "metadata": {
        "colab": {
          "base_uri": "https://localhost:8080/"
        },
        "id": "j6_4h9scGWhn",
        "outputId": "019005fe-695b-4cf9-f9d4-58ff0f5ca583"
      },
      "execution_count": 439,
      "outputs": [
        {
          "output_type": "execute_result",
          "data": {
            "text/plain": [
              "Solex             4253\n",
              "Giant Bicycles    3312\n",
              "WeareA2B          3295\n",
              "OHM Cycles        3043\n",
              "Trek Bicycles     2990\n",
              "Norco Bicycles    2910\n",
              "Name: brand, dtype: int64"
            ]
          },
          "metadata": {},
          "execution_count": 439
        }
      ]
    },
    {
      "cell_type": "code",
      "source": [
        "df_transactions['brand'] = df_transactions['brand'].fillna(method='ffill')"
      ],
      "metadata": {
        "id": "KYrzS2qaeD6k"
      },
      "execution_count": 440,
      "outputs": []
    },
    {
      "cell_type": "code",
      "source": [
        "df_transactions['product_line'].value_counts()"
      ],
      "metadata": {
        "colab": {
          "base_uri": "https://localhost:8080/"
        },
        "id": "TvvdybFCGeGP",
        "outputId": "8d003efd-156b-46de-aeb1-7f013c272367"
      },
      "execution_count": 441,
      "outputs": [
        {
          "output_type": "execute_result",
          "data": {
            "text/plain": [
              "Standard    14176\n",
              "Road         3970\n",
              "Touring      1234\n",
              "Mountain      423\n",
              "Name: product_line, dtype: int64"
            ]
          },
          "metadata": {},
          "execution_count": 441
        }
      ]
    },
    {
      "cell_type": "code",
      "source": [
        "df_transactions['product_line'] = df_transactions['product_line'].fillna(method='bfill')"
      ],
      "metadata": {
        "id": "21dYF_s4eM82"
      },
      "execution_count": 442,
      "outputs": []
    },
    {
      "cell_type": "code",
      "source": [
        "df_transactions['product_class'].value_counts()"
      ],
      "metadata": {
        "colab": {
          "base_uri": "https://localhost:8080/"
        },
        "id": "KuwR_NO_Glu0",
        "outputId": "95328809-478d-48e2-d0f4-4b11ab96037e"
      },
      "execution_count": 443,
      "outputs": [
        {
          "output_type": "execute_result",
          "data": {
            "text/plain": [
              "medium    13826\n",
              "high       3013\n",
              "low        2964\n",
              "Name: product_class, dtype: int64"
            ]
          },
          "metadata": {},
          "execution_count": 443
        }
      ]
    },
    {
      "cell_type": "code",
      "source": [
        "df_transactions['product_class'] = df_transactions['product_class'].fillna(method='bfill')"
      ],
      "metadata": {
        "id": "pXjzxqxxeWo9"
      },
      "execution_count": 444,
      "outputs": []
    },
    {
      "cell_type": "code",
      "source": [
        "df_transactions['product_size'].value_counts()"
      ],
      "metadata": {
        "colab": {
          "base_uri": "https://localhost:8080/"
        },
        "id": "H6uTCNE9GuQ_",
        "outputId": "e16db5f5-8708-477d-dc14-78dee535beb0"
      },
      "execution_count": 445,
      "outputs": [
        {
          "output_type": "execute_result",
          "data": {
            "text/plain": [
              "medium    12990\n",
              "large      3976\n",
              "small      2837\n",
              "Name: product_size, dtype: int64"
            ]
          },
          "metadata": {},
          "execution_count": 445
        }
      ]
    },
    {
      "cell_type": "code",
      "source": [
        "df_transactions['product_size'] = df_transactions['product_size'].fillna(method='ffill')"
      ],
      "metadata": {
        "id": "A9c0y3tVelEQ"
      },
      "execution_count": 446,
      "outputs": []
    },
    {
      "cell_type": "code",
      "source": [
        "df_transactions['standard_cost'] = df_transactions['standard_cost'].fillna(df_transactions['standard_cost'].mean())"
      ],
      "metadata": {
        "id": "U7sFdCoRetP-"
      },
      "execution_count": 447,
      "outputs": []
    },
    {
      "cell_type": "code",
      "source": [
        "df_transactions['product_first_sold_date'] = df_transactions['product_first_sold_date'].fillna(df_transactions['product_first_sold_date'].mean())"
      ],
      "metadata": {
        "id": "9dQT8ibSfP-2"
      },
      "execution_count": 448,
      "outputs": []
    },
    {
      "cell_type": "code",
      "source": [
        "df_transactions.info()"
      ],
      "metadata": {
        "id": "NgRDJCgSfZNK",
        "colab": {
          "base_uri": "https://localhost:8080/"
        },
        "outputId": "39a2ef26-3f03-4d12-d8a0-2bd7a055a31e"
      },
      "execution_count": 449,
      "outputs": [
        {
          "output_type": "stream",
          "name": "stdout",
          "text": [
            "<class 'pandas.core.frame.DataFrame'>\n",
            "Int64Index: 20000 entries, 9784 to 8707\n",
            "Data columns (total 13 columns):\n",
            " #   Column                   Non-Null Count  Dtype         \n",
            "---  ------                   --------------  -----         \n",
            " 0   transaction_id           20000 non-null  int64         \n",
            " 1   product_id               20000 non-null  int64         \n",
            " 2   customer_id              20000 non-null  int64         \n",
            " 3   transaction_date         20000 non-null  datetime64[ns]\n",
            " 4   online_order             20000 non-null  float64       \n",
            " 5   order_status             20000 non-null  object        \n",
            " 6   brand                    20000 non-null  object        \n",
            " 7   product_line             20000 non-null  object        \n",
            " 8   product_class            20000 non-null  object        \n",
            " 9   product_size             20000 non-null  object        \n",
            " 10  list_price               20000 non-null  float64       \n",
            " 11  standard_cost            20000 non-null  float64       \n",
            " 12  product_first_sold_date  20000 non-null  float64       \n",
            "dtypes: datetime64[ns](1), float64(4), int64(3), object(5)\n",
            "memory usage: 2.1+ MB\n"
          ]
        }
      ]
    },
    {
      "cell_type": "code",
      "source": [
        "customer_transactions = df_transactions.copy()"
      ],
      "metadata": {
        "id": "xcXT9h7yHAoz"
      },
      "execution_count": 450,
      "outputs": []
    },
    {
      "cell_type": "markdown",
      "source": [
        "##Exploratory Data Analysis"
      ],
      "metadata": {
        "id": "Hne6CmiyLEH0"
      }
    },
    {
      "cell_type": "code",
      "source": [
        "customer_data = original_customers.merge(customer_address,on='customer_id')"
      ],
      "metadata": {
        "id": "n8j8pmyfHJC_"
      },
      "execution_count": 451,
      "outputs": []
    },
    {
      "cell_type": "code",
      "source": [
        "customer_data = customer_data.merge(customer_transactions, on = 'customer_id')"
      ],
      "metadata": {
        "id": "3xhZ5dBeLdex"
      },
      "execution_count": 452,
      "outputs": []
    },
    {
      "cell_type": "code",
      "source": [
        "#we have all original customer data in one df with transaction history\n",
        "customer_data.head()"
      ],
      "metadata": {
        "colab": {
          "base_uri": "https://localhost:8080/",
          "height": 444
        },
        "id": "H2iUcg62LqjJ",
        "outputId": "94fd96e2-9bff-4c86-d3df-c17882ee24cf"
      },
      "execution_count": 453,
      "outputs": [
        {
          "output_type": "execute_result",
          "data": {
            "text/html": [
              "\n",
              "  <div id=\"df-a76d2bdb-bf69-41c7-b986-d7e400dc18ac\">\n",
              "    <div class=\"colab-df-container\">\n",
              "      <div>\n",
              "<style scoped>\n",
              "    .dataframe tbody tr th:only-of-type {\n",
              "        vertical-align: middle;\n",
              "    }\n",
              "\n",
              "    .dataframe tbody tr th {\n",
              "        vertical-align: top;\n",
              "    }\n",
              "\n",
              "    .dataframe thead th {\n",
              "        text-align: right;\n",
              "    }\n",
              "</style>\n",
              "<table border=\"1\" class=\"dataframe\">\n",
              "  <thead>\n",
              "    <tr style=\"text-align: right;\">\n",
              "      <th></th>\n",
              "      <th>customer_id</th>\n",
              "      <th>first_name</th>\n",
              "      <th>last_name</th>\n",
              "      <th>gender</th>\n",
              "      <th>past_3_years_bike_related_purchases</th>\n",
              "      <th>DOB</th>\n",
              "      <th>job_title</th>\n",
              "      <th>job_industry_category</th>\n",
              "      <th>wealth_segment</th>\n",
              "      <th>deceased_indicator</th>\n",
              "      <th>owns_car</th>\n",
              "      <th>tenure</th>\n",
              "      <th>address</th>\n",
              "      <th>postcode</th>\n",
              "      <th>state</th>\n",
              "      <th>country</th>\n",
              "      <th>property_valuation</th>\n",
              "      <th>transaction_id</th>\n",
              "      <th>product_id</th>\n",
              "      <th>transaction_date</th>\n",
              "      <th>online_order</th>\n",
              "      <th>order_status</th>\n",
              "      <th>brand</th>\n",
              "      <th>product_line</th>\n",
              "      <th>product_class</th>\n",
              "      <th>product_size</th>\n",
              "      <th>list_price</th>\n",
              "      <th>standard_cost</th>\n",
              "      <th>product_first_sold_date</th>\n",
              "    </tr>\n",
              "  </thead>\n",
              "  <tbody>\n",
              "    <tr>\n",
              "      <th>0</th>\n",
              "      <td>1</td>\n",
              "      <td>Laraine</td>\n",
              "      <td>Medendorp</td>\n",
              "      <td>Female</td>\n",
              "      <td>93</td>\n",
              "      <td>1953-10-12</td>\n",
              "      <td>Executive Secretary</td>\n",
              "      <td>Health</td>\n",
              "      <td>Mass Customer</td>\n",
              "      <td>False</td>\n",
              "      <td>True</td>\n",
              "      <td>11.0</td>\n",
              "      <td>060 Morning Avenue</td>\n",
              "      <td>2016</td>\n",
              "      <td>NSW</td>\n",
              "      <td>Australia</td>\n",
              "      <td>10</td>\n",
              "      <td>9785</td>\n",
              "      <td>72</td>\n",
              "      <td>2017-01-05</td>\n",
              "      <td>0.0</td>\n",
              "      <td>Approved</td>\n",
              "      <td>Norco Bicycles</td>\n",
              "      <td>Standard</td>\n",
              "      <td>medium</td>\n",
              "      <td>medium</td>\n",
              "      <td>360.40</td>\n",
              "      <td>270.30</td>\n",
              "      <td>37873.0</td>\n",
              "    </tr>\n",
              "    <tr>\n",
              "      <th>1</th>\n",
              "      <td>1</td>\n",
              "      <td>Laraine</td>\n",
              "      <td>Medendorp</td>\n",
              "      <td>Female</td>\n",
              "      <td>93</td>\n",
              "      <td>1953-10-12</td>\n",
              "      <td>Executive Secretary</td>\n",
              "      <td>Health</td>\n",
              "      <td>Mass Customer</td>\n",
              "      <td>False</td>\n",
              "      <td>True</td>\n",
              "      <td>11.0</td>\n",
              "      <td>060 Morning Avenue</td>\n",
              "      <td>2016</td>\n",
              "      <td>NSW</td>\n",
              "      <td>Australia</td>\n",
              "      <td>10</td>\n",
              "      <td>13424</td>\n",
              "      <td>2</td>\n",
              "      <td>2017-02-21</td>\n",
              "      <td>0.0</td>\n",
              "      <td>Approved</td>\n",
              "      <td>Solex</td>\n",
              "      <td>Standard</td>\n",
              "      <td>medium</td>\n",
              "      <td>medium</td>\n",
              "      <td>71.49</td>\n",
              "      <td>53.62</td>\n",
              "      <td>38573.0</td>\n",
              "    </tr>\n",
              "    <tr>\n",
              "      <th>2</th>\n",
              "      <td>1</td>\n",
              "      <td>Laraine</td>\n",
              "      <td>Medendorp</td>\n",
              "      <td>Female</td>\n",
              "      <td>93</td>\n",
              "      <td>1953-10-12</td>\n",
              "      <td>Executive Secretary</td>\n",
              "      <td>Health</td>\n",
              "      <td>Mass Customer</td>\n",
              "      <td>False</td>\n",
              "      <td>True</td>\n",
              "      <td>11.0</td>\n",
              "      <td>060 Morning Avenue</td>\n",
              "      <td>2016</td>\n",
              "      <td>NSW</td>\n",
              "      <td>Australia</td>\n",
              "      <td>10</td>\n",
              "      <td>14486</td>\n",
              "      <td>23</td>\n",
              "      <td>2017-03-27</td>\n",
              "      <td>0.0</td>\n",
              "      <td>Approved</td>\n",
              "      <td>Norco Bicycles</td>\n",
              "      <td>Mountain</td>\n",
              "      <td>low</td>\n",
              "      <td>small</td>\n",
              "      <td>688.63</td>\n",
              "      <td>612.88</td>\n",
              "      <td>33455.0</td>\n",
              "    </tr>\n",
              "    <tr>\n",
              "      <th>3</th>\n",
              "      <td>1</td>\n",
              "      <td>Laraine</td>\n",
              "      <td>Medendorp</td>\n",
              "      <td>Female</td>\n",
              "      <td>93</td>\n",
              "      <td>1953-10-12</td>\n",
              "      <td>Executive Secretary</td>\n",
              "      <td>Health</td>\n",
              "      <td>Mass Customer</td>\n",
              "      <td>False</td>\n",
              "      <td>True</td>\n",
              "      <td>11.0</td>\n",
              "      <td>060 Morning Avenue</td>\n",
              "      <td>2016</td>\n",
              "      <td>NSW</td>\n",
              "      <td>Australia</td>\n",
              "      <td>10</td>\n",
              "      <td>18970</td>\n",
              "      <td>11</td>\n",
              "      <td>2017-03-29</td>\n",
              "      <td>1.0</td>\n",
              "      <td>Approved</td>\n",
              "      <td>Giant Bicycles</td>\n",
              "      <td>Standard</td>\n",
              "      <td>high</td>\n",
              "      <td>medium</td>\n",
              "      <td>1274.93</td>\n",
              "      <td>764.96</td>\n",
              "      <td>35378.0</td>\n",
              "    </tr>\n",
              "    <tr>\n",
              "      <th>4</th>\n",
              "      <td>1</td>\n",
              "      <td>Laraine</td>\n",
              "      <td>Medendorp</td>\n",
              "      <td>Female</td>\n",
              "      <td>93</td>\n",
              "      <td>1953-10-12</td>\n",
              "      <td>Executive Secretary</td>\n",
              "      <td>Health</td>\n",
              "      <td>Mass Customer</td>\n",
              "      <td>False</td>\n",
              "      <td>True</td>\n",
              "      <td>11.0</td>\n",
              "      <td>060 Morning Avenue</td>\n",
              "      <td>2016</td>\n",
              "      <td>NSW</td>\n",
              "      <td>Australia</td>\n",
              "      <td>10</td>\n",
              "      <td>3765</td>\n",
              "      <td>38</td>\n",
              "      <td>2017-04-06</td>\n",
              "      <td>1.0</td>\n",
              "      <td>Approved</td>\n",
              "      <td>Solex</td>\n",
              "      <td>Standard</td>\n",
              "      <td>medium</td>\n",
              "      <td>medium</td>\n",
              "      <td>1577.53</td>\n",
              "      <td>826.51</td>\n",
              "      <td>39526.0</td>\n",
              "    </tr>\n",
              "  </tbody>\n",
              "</table>\n",
              "</div>\n",
              "      <button class=\"colab-df-convert\" onclick=\"convertToInteractive('df-a76d2bdb-bf69-41c7-b986-d7e400dc18ac')\"\n",
              "              title=\"Convert this dataframe to an interactive table.\"\n",
              "              style=\"display:none;\">\n",
              "        \n",
              "  <svg xmlns=\"http://www.w3.org/2000/svg\" height=\"24px\"viewBox=\"0 0 24 24\"\n",
              "       width=\"24px\">\n",
              "    <path d=\"M0 0h24v24H0V0z\" fill=\"none\"/>\n",
              "    <path d=\"M18.56 5.44l.94 2.06.94-2.06 2.06-.94-2.06-.94-.94-2.06-.94 2.06-2.06.94zm-11 1L8.5 8.5l.94-2.06 2.06-.94-2.06-.94L8.5 2.5l-.94 2.06-2.06.94zm10 10l.94 2.06.94-2.06 2.06-.94-2.06-.94-.94-2.06-.94 2.06-2.06.94z\"/><path d=\"M17.41 7.96l-1.37-1.37c-.4-.4-.92-.59-1.43-.59-.52 0-1.04.2-1.43.59L10.3 9.45l-7.72 7.72c-.78.78-.78 2.05 0 2.83L4 21.41c.39.39.9.59 1.41.59.51 0 1.02-.2 1.41-.59l7.78-7.78 2.81-2.81c.8-.78.8-2.07 0-2.86zM5.41 20L4 18.59l7.72-7.72 1.47 1.35L5.41 20z\"/>\n",
              "  </svg>\n",
              "      </button>\n",
              "      \n",
              "  <style>\n",
              "    .colab-df-container {\n",
              "      display:flex;\n",
              "      flex-wrap:wrap;\n",
              "      gap: 12px;\n",
              "    }\n",
              "\n",
              "    .colab-df-convert {\n",
              "      background-color: #E8F0FE;\n",
              "      border: none;\n",
              "      border-radius: 50%;\n",
              "      cursor: pointer;\n",
              "      display: none;\n",
              "      fill: #1967D2;\n",
              "      height: 32px;\n",
              "      padding: 0 0 0 0;\n",
              "      width: 32px;\n",
              "    }\n",
              "\n",
              "    .colab-df-convert:hover {\n",
              "      background-color: #E2EBFA;\n",
              "      box-shadow: 0px 1px 2px rgba(60, 64, 67, 0.3), 0px 1px 3px 1px rgba(60, 64, 67, 0.15);\n",
              "      fill: #174EA6;\n",
              "    }\n",
              "\n",
              "    [theme=dark] .colab-df-convert {\n",
              "      background-color: #3B4455;\n",
              "      fill: #D2E3FC;\n",
              "    }\n",
              "\n",
              "    [theme=dark] .colab-df-convert:hover {\n",
              "      background-color: #434B5C;\n",
              "      box-shadow: 0px 1px 3px 1px rgba(0, 0, 0, 0.15);\n",
              "      filter: drop-shadow(0px 1px 2px rgba(0, 0, 0, 0.3));\n",
              "      fill: #FFFFFF;\n",
              "    }\n",
              "  </style>\n",
              "\n",
              "      <script>\n",
              "        const buttonEl =\n",
              "          document.querySelector('#df-a76d2bdb-bf69-41c7-b986-d7e400dc18ac button.colab-df-convert');\n",
              "        buttonEl.style.display =\n",
              "          google.colab.kernel.accessAllowed ? 'block' : 'none';\n",
              "\n",
              "        async function convertToInteractive(key) {\n",
              "          const element = document.querySelector('#df-a76d2bdb-bf69-41c7-b986-d7e400dc18ac');\n",
              "          const dataTable =\n",
              "            await google.colab.kernel.invokeFunction('convertToInteractive',\n",
              "                                                     [key], {});\n",
              "          if (!dataTable) return;\n",
              "\n",
              "          const docLinkHtml = 'Like what you see? Visit the ' +\n",
              "            '<a target=\"_blank\" href=https://colab.research.google.com/notebooks/data_table.ipynb>data table notebook</a>'\n",
              "            + ' to learn more about interactive tables.';\n",
              "          element.innerHTML = '';\n",
              "          dataTable['output_type'] = 'display_data';\n",
              "          await google.colab.output.renderOutput(dataTable, element);\n",
              "          const docLink = document.createElement('div');\n",
              "          docLink.innerHTML = docLinkHtml;\n",
              "          element.appendChild(docLink);\n",
              "        }\n",
              "      </script>\n",
              "    </div>\n",
              "  </div>\n",
              "  "
            ],
            "text/plain": [
              "   customer_id first_name  ... standard_cost product_first_sold_date\n",
              "0            1    Laraine  ...        270.30                 37873.0\n",
              "1            1    Laraine  ...         53.62                 38573.0\n",
              "2            1    Laraine  ...        612.88                 33455.0\n",
              "3            1    Laraine  ...        764.96                 35378.0\n",
              "4            1    Laraine  ...        826.51                 39526.0\n",
              "\n",
              "[5 rows x 29 columns]"
            ]
          },
          "metadata": {},
          "execution_count": 453
        }
      ]
    },
    {
      "cell_type": "code",
      "source": [
        "customer_data.info()"
      ],
      "metadata": {
        "colab": {
          "base_uri": "https://localhost:8080/"
        },
        "id": "W9tfZTiyL3FB",
        "outputId": "90e3d9b5-2c27-4a5d-c5e8-347aec0acfc5"
      },
      "execution_count": 454,
      "outputs": [
        {
          "output_type": "stream",
          "name": "stdout",
          "text": [
            "<class 'pandas.core.frame.DataFrame'>\n",
            "Int64Index: 19968 entries, 0 to 19967\n",
            "Data columns (total 29 columns):\n",
            " #   Column                               Non-Null Count  Dtype         \n",
            "---  ------                               --------------  -----         \n",
            " 0   customer_id                          19968 non-null  int64         \n",
            " 1   first_name                           19968 non-null  object        \n",
            " 2   last_name                            19326 non-null  object        \n",
            " 3   gender                               19968 non-null  object        \n",
            " 4   past_3_years_bike_related_purchases  19968 non-null  int64         \n",
            " 5   DOB                                  19522 non-null  datetime64[ns]\n",
            " 6   job_title                            19968 non-null  object        \n",
            " 7   job_industry_category                19968 non-null  object        \n",
            " 8   wealth_segment                       19968 non-null  object        \n",
            " 9   deceased_indicator                   19968 non-null  bool          \n",
            " 10  owns_car                             19968 non-null  bool          \n",
            " 11  tenure                               19968 non-null  float64       \n",
            " 12  address                              19968 non-null  object        \n",
            " 13  postcode                             19968 non-null  int64         \n",
            " 14  state                                19968 non-null  object        \n",
            " 15  country                              19968 non-null  object        \n",
            " 16  property_valuation                   19968 non-null  int64         \n",
            " 17  transaction_id                       19968 non-null  int64         \n",
            " 18  product_id                           19968 non-null  int64         \n",
            " 19  transaction_date                     19968 non-null  datetime64[ns]\n",
            " 20  online_order                         19968 non-null  float64       \n",
            " 21  order_status                         19968 non-null  object        \n",
            " 22  brand                                19968 non-null  object        \n",
            " 23  product_line                         19968 non-null  object        \n",
            " 24  product_class                        19968 non-null  object        \n",
            " 25  product_size                         19968 non-null  object        \n",
            " 26  list_price                           19968 non-null  float64       \n",
            " 27  standard_cost                        19968 non-null  float64       \n",
            " 28  product_first_sold_date              19968 non-null  float64       \n",
            "dtypes: bool(2), datetime64[ns](2), float64(5), int64(6), object(14)\n",
            "memory usage: 4.3+ MB\n"
          ]
        }
      ]
    },
    {
      "cell_type": "code",
      "source": [
        "customer_data.describe()"
      ],
      "metadata": {
        "colab": {
          "base_uri": "https://localhost:8080/",
          "height": 364
        },
        "id": "k10F18KMMTRf",
        "outputId": "50f16706-19aa-4d93-89d3-7c17b2509b8b"
      },
      "execution_count": 455,
      "outputs": [
        {
          "output_type": "execute_result",
          "data": {
            "text/html": [
              "\n",
              "  <div id=\"df-3bb027e7-ec72-4825-b6b3-93b265543650\">\n",
              "    <div class=\"colab-df-container\">\n",
              "      <div>\n",
              "<style scoped>\n",
              "    .dataframe tbody tr th:only-of-type {\n",
              "        vertical-align: middle;\n",
              "    }\n",
              "\n",
              "    .dataframe tbody tr th {\n",
              "        vertical-align: top;\n",
              "    }\n",
              "\n",
              "    .dataframe thead th {\n",
              "        text-align: right;\n",
              "    }\n",
              "</style>\n",
              "<table border=\"1\" class=\"dataframe\">\n",
              "  <thead>\n",
              "    <tr style=\"text-align: right;\">\n",
              "      <th></th>\n",
              "      <th>customer_id</th>\n",
              "      <th>past_3_years_bike_related_purchases</th>\n",
              "      <th>tenure</th>\n",
              "      <th>postcode</th>\n",
              "      <th>property_valuation</th>\n",
              "      <th>transaction_id</th>\n",
              "      <th>product_id</th>\n",
              "      <th>online_order</th>\n",
              "      <th>list_price</th>\n",
              "      <th>standard_cost</th>\n",
              "      <th>product_first_sold_date</th>\n",
              "    </tr>\n",
              "  </thead>\n",
              "  <tbody>\n",
              "    <tr>\n",
              "      <th>count</th>\n",
              "      <td>19968.000000</td>\n",
              "      <td>19968.000000</td>\n",
              "      <td>19968.000000</td>\n",
              "      <td>19968.000000</td>\n",
              "      <td>19968.000000</td>\n",
              "      <td>19968.000000</td>\n",
              "      <td>19968.000000</td>\n",
              "      <td>19968.000000</td>\n",
              "      <td>19968.000000</td>\n",
              "      <td>19968.000000</td>\n",
              "      <td>19968.000000</td>\n",
              "    </tr>\n",
              "    <tr>\n",
              "      <th>mean</th>\n",
              "      <td>1740.254307</td>\n",
              "      <td>48.757412</td>\n",
              "      <td>10.681392</td>\n",
              "      <td>2987.623347</td>\n",
              "      <td>7.516376</td>\n",
              "      <td>9997.846504</td>\n",
              "      <td>45.365986</td>\n",
              "      <td>0.501102</td>\n",
              "      <td>1107.780004</td>\n",
              "      <td>556.090619</td>\n",
              "      <td>38198.751474</td>\n",
              "    </tr>\n",
              "    <tr>\n",
              "      <th>std</th>\n",
              "      <td>1009.819066</td>\n",
              "      <td>28.611359</td>\n",
              "      <td>5.610897</td>\n",
              "      <td>851.306647</td>\n",
              "      <td>2.824783</td>\n",
              "      <td>5773.929973</td>\n",
              "      <td>30.750115</td>\n",
              "      <td>0.500011</td>\n",
              "      <td>582.852548</td>\n",
              "      <td>403.979251</td>\n",
              "      <td>2860.784340</td>\n",
              "    </tr>\n",
              "    <tr>\n",
              "      <th>min</th>\n",
              "      <td>1.000000</td>\n",
              "      <td>0.000000</td>\n",
              "      <td>1.000000</td>\n",
              "      <td>2000.000000</td>\n",
              "      <td>1.000000</td>\n",
              "      <td>1.000000</td>\n",
              "      <td>0.000000</td>\n",
              "      <td>0.000000</td>\n",
              "      <td>12.010000</td>\n",
              "      <td>7.210000</td>\n",
              "      <td>33259.000000</td>\n",
              "    </tr>\n",
              "    <tr>\n",
              "      <th>25%</th>\n",
              "      <td>861.750000</td>\n",
              "      <td>24.000000</td>\n",
              "      <td>6.000000</td>\n",
              "      <td>2200.000000</td>\n",
              "      <td>6.000000</td>\n",
              "      <td>4997.750000</td>\n",
              "      <td>18.000000</td>\n",
              "      <td>0.000000</td>\n",
              "      <td>575.270000</td>\n",
              "      <td>215.140000</td>\n",
              "      <td>35667.000000</td>\n",
              "    </tr>\n",
              "    <tr>\n",
              "      <th>50%</th>\n",
              "      <td>1739.500000</td>\n",
              "      <td>48.000000</td>\n",
              "      <td>10.657041</td>\n",
              "      <td>2767.000000</td>\n",
              "      <td>8.000000</td>\n",
              "      <td>9996.500000</td>\n",
              "      <td>44.000000</td>\n",
              "      <td>1.000000</td>\n",
              "      <td>1163.890000</td>\n",
              "      <td>507.580000</td>\n",
              "      <td>38206.000000</td>\n",
              "    </tr>\n",
              "    <tr>\n",
              "      <th>75%</th>\n",
              "      <td>2614.250000</td>\n",
              "      <td>73.000000</td>\n",
              "      <td>15.000000</td>\n",
              "      <td>3754.000000</td>\n",
              "      <td>10.000000</td>\n",
              "      <td>14996.250000</td>\n",
              "      <td>72.000000</td>\n",
              "      <td>1.000000</td>\n",
              "      <td>1635.300000</td>\n",
              "      <td>795.100000</td>\n",
              "      <td>40672.000000</td>\n",
              "    </tr>\n",
              "    <tr>\n",
              "      <th>max</th>\n",
              "      <td>3500.000000</td>\n",
              "      <td>99.000000</td>\n",
              "      <td>22.000000</td>\n",
              "      <td>4883.000000</td>\n",
              "      <td>12.000000</td>\n",
              "      <td>20000.000000</td>\n",
              "      <td>100.000000</td>\n",
              "      <td>1.000000</td>\n",
              "      <td>2091.470000</td>\n",
              "      <td>1759.850000</td>\n",
              "      <td>42710.000000</td>\n",
              "    </tr>\n",
              "  </tbody>\n",
              "</table>\n",
              "</div>\n",
              "      <button class=\"colab-df-convert\" onclick=\"convertToInteractive('df-3bb027e7-ec72-4825-b6b3-93b265543650')\"\n",
              "              title=\"Convert this dataframe to an interactive table.\"\n",
              "              style=\"display:none;\">\n",
              "        \n",
              "  <svg xmlns=\"http://www.w3.org/2000/svg\" height=\"24px\"viewBox=\"0 0 24 24\"\n",
              "       width=\"24px\">\n",
              "    <path d=\"M0 0h24v24H0V0z\" fill=\"none\"/>\n",
              "    <path d=\"M18.56 5.44l.94 2.06.94-2.06 2.06-.94-2.06-.94-.94-2.06-.94 2.06-2.06.94zm-11 1L8.5 8.5l.94-2.06 2.06-.94-2.06-.94L8.5 2.5l-.94 2.06-2.06.94zm10 10l.94 2.06.94-2.06 2.06-.94-2.06-.94-.94-2.06-.94 2.06-2.06.94z\"/><path d=\"M17.41 7.96l-1.37-1.37c-.4-.4-.92-.59-1.43-.59-.52 0-1.04.2-1.43.59L10.3 9.45l-7.72 7.72c-.78.78-.78 2.05 0 2.83L4 21.41c.39.39.9.59 1.41.59.51 0 1.02-.2 1.41-.59l7.78-7.78 2.81-2.81c.8-.78.8-2.07 0-2.86zM5.41 20L4 18.59l7.72-7.72 1.47 1.35L5.41 20z\"/>\n",
              "  </svg>\n",
              "      </button>\n",
              "      \n",
              "  <style>\n",
              "    .colab-df-container {\n",
              "      display:flex;\n",
              "      flex-wrap:wrap;\n",
              "      gap: 12px;\n",
              "    }\n",
              "\n",
              "    .colab-df-convert {\n",
              "      background-color: #E8F0FE;\n",
              "      border: none;\n",
              "      border-radius: 50%;\n",
              "      cursor: pointer;\n",
              "      display: none;\n",
              "      fill: #1967D2;\n",
              "      height: 32px;\n",
              "      padding: 0 0 0 0;\n",
              "      width: 32px;\n",
              "    }\n",
              "\n",
              "    .colab-df-convert:hover {\n",
              "      background-color: #E2EBFA;\n",
              "      box-shadow: 0px 1px 2px rgba(60, 64, 67, 0.3), 0px 1px 3px 1px rgba(60, 64, 67, 0.15);\n",
              "      fill: #174EA6;\n",
              "    }\n",
              "\n",
              "    [theme=dark] .colab-df-convert {\n",
              "      background-color: #3B4455;\n",
              "      fill: #D2E3FC;\n",
              "    }\n",
              "\n",
              "    [theme=dark] .colab-df-convert:hover {\n",
              "      background-color: #434B5C;\n",
              "      box-shadow: 0px 1px 3px 1px rgba(0, 0, 0, 0.15);\n",
              "      filter: drop-shadow(0px 1px 2px rgba(0, 0, 0, 0.3));\n",
              "      fill: #FFFFFF;\n",
              "    }\n",
              "  </style>\n",
              "\n",
              "      <script>\n",
              "        const buttonEl =\n",
              "          document.querySelector('#df-3bb027e7-ec72-4825-b6b3-93b265543650 button.colab-df-convert');\n",
              "        buttonEl.style.display =\n",
              "          google.colab.kernel.accessAllowed ? 'block' : 'none';\n",
              "\n",
              "        async function convertToInteractive(key) {\n",
              "          const element = document.querySelector('#df-3bb027e7-ec72-4825-b6b3-93b265543650');\n",
              "          const dataTable =\n",
              "            await google.colab.kernel.invokeFunction('convertToInteractive',\n",
              "                                                     [key], {});\n",
              "          if (!dataTable) return;\n",
              "\n",
              "          const docLinkHtml = 'Like what you see? Visit the ' +\n",
              "            '<a target=\"_blank\" href=https://colab.research.google.com/notebooks/data_table.ipynb>data table notebook</a>'\n",
              "            + ' to learn more about interactive tables.';\n",
              "          element.innerHTML = '';\n",
              "          dataTable['output_type'] = 'display_data';\n",
              "          await google.colab.output.renderOutput(dataTable, element);\n",
              "          const docLink = document.createElement('div');\n",
              "          docLink.innerHTML = docLinkHtml;\n",
              "          element.appendChild(docLink);\n",
              "        }\n",
              "      </script>\n",
              "    </div>\n",
              "  </div>\n",
              "  "
            ],
            "text/plain": [
              "        customer_id  ...  product_first_sold_date\n",
              "count  19968.000000  ...             19968.000000\n",
              "mean    1740.254307  ...             38198.751474\n",
              "std     1009.819066  ...              2860.784340\n",
              "min        1.000000  ...             33259.000000\n",
              "25%      861.750000  ...             35667.000000\n",
              "50%     1739.500000  ...             38206.000000\n",
              "75%     2614.250000  ...             40672.000000\n",
              "max     3500.000000  ...             42710.000000\n",
              "\n",
              "[8 rows x 11 columns]"
            ]
          },
          "metadata": {},
          "execution_count": 455
        }
      ]
    },
    {
      "cell_type": "code",
      "source": [
        "customer_data.duplicated().sum()"
      ],
      "metadata": {
        "colab": {
          "base_uri": "https://localhost:8080/"
        },
        "id": "4cZE92RFMmiR",
        "outputId": "74d3f2f5-daed-4dd5-9ffd-1f816526dc33"
      },
      "execution_count": 456,
      "outputs": [
        {
          "output_type": "execute_result",
          "data": {
            "text/plain": [
              "0"
            ]
          },
          "metadata": {},
          "execution_count": 456
        }
      ]
    },
    {
      "cell_type": "code",
      "source": [
        "customer_data.isnull().sum()"
      ],
      "metadata": {
        "colab": {
          "base_uri": "https://localhost:8080/"
        },
        "id": "b6podjDBMCti",
        "outputId": "26d66b5a-e798-481b-f496-7bfd365f6f39"
      },
      "execution_count": 457,
      "outputs": [
        {
          "output_type": "execute_result",
          "data": {
            "text/plain": [
              "customer_id                              0\n",
              "first_name                               0\n",
              "last_name                              642\n",
              "gender                                   0\n",
              "past_3_years_bike_related_purchases      0\n",
              "DOB                                    446\n",
              "job_title                                0\n",
              "job_industry_category                    0\n",
              "wealth_segment                           0\n",
              "deceased_indicator                       0\n",
              "owns_car                                 0\n",
              "tenure                                   0\n",
              "address                                  0\n",
              "postcode                                 0\n",
              "state                                    0\n",
              "country                                  0\n",
              "property_valuation                       0\n",
              "transaction_id                           0\n",
              "product_id                               0\n",
              "transaction_date                         0\n",
              "online_order                             0\n",
              "order_status                             0\n",
              "brand                                    0\n",
              "product_line                             0\n",
              "product_class                            0\n",
              "product_size                             0\n",
              "list_price                               0\n",
              "standard_cost                            0\n",
              "product_first_sold_date                  0\n",
              "dtype: int64"
            ]
          },
          "metadata": {},
          "execution_count": 457
        }
      ]
    },
    {
      "cell_type": "code",
      "source": [
        "customer_data['last_name'].fillna(method='ffill', inplace = True)\n",
        "customer_data['DOB'].fillna(method='ffill', inplace = True)"
      ],
      "metadata": {
        "id": "Tocj3o-IMI3v"
      },
      "execution_count": 458,
      "outputs": []
    },
    {
      "cell_type": "code",
      "source": [
        "customer_data.info()"
      ],
      "metadata": {
        "colab": {
          "base_uri": "https://localhost:8080/"
        },
        "id": "nJGB4RQo4DSG",
        "outputId": "41acb016-bca1-4871-d56d-4931019f7248"
      },
      "execution_count": 459,
      "outputs": [
        {
          "output_type": "stream",
          "name": "stdout",
          "text": [
            "<class 'pandas.core.frame.DataFrame'>\n",
            "Int64Index: 19968 entries, 0 to 19967\n",
            "Data columns (total 29 columns):\n",
            " #   Column                               Non-Null Count  Dtype         \n",
            "---  ------                               --------------  -----         \n",
            " 0   customer_id                          19968 non-null  int64         \n",
            " 1   first_name                           19968 non-null  object        \n",
            " 2   last_name                            19968 non-null  object        \n",
            " 3   gender                               19968 non-null  object        \n",
            " 4   past_3_years_bike_related_purchases  19968 non-null  int64         \n",
            " 5   DOB                                  19968 non-null  datetime64[ns]\n",
            " 6   job_title                            19968 non-null  object        \n",
            " 7   job_industry_category                19968 non-null  object        \n",
            " 8   wealth_segment                       19968 non-null  object        \n",
            " 9   deceased_indicator                   19968 non-null  bool          \n",
            " 10  owns_car                             19968 non-null  bool          \n",
            " 11  tenure                               19968 non-null  float64       \n",
            " 12  address                              19968 non-null  object        \n",
            " 13  postcode                             19968 non-null  int64         \n",
            " 14  state                                19968 non-null  object        \n",
            " 15  country                              19968 non-null  object        \n",
            " 16  property_valuation                   19968 non-null  int64         \n",
            " 17  transaction_id                       19968 non-null  int64         \n",
            " 18  product_id                           19968 non-null  int64         \n",
            " 19  transaction_date                     19968 non-null  datetime64[ns]\n",
            " 20  online_order                         19968 non-null  float64       \n",
            " 21  order_status                         19968 non-null  object        \n",
            " 22  brand                                19968 non-null  object        \n",
            " 23  product_line                         19968 non-null  object        \n",
            " 24  product_class                        19968 non-null  object        \n",
            " 25  product_size                         19968 non-null  object        \n",
            " 26  list_price                           19968 non-null  float64       \n",
            " 27  standard_cost                        19968 non-null  float64       \n",
            " 28  product_first_sold_date              19968 non-null  float64       \n",
            "dtypes: bool(2), datetime64[ns](2), float64(5), int64(6), object(14)\n",
            "memory usage: 4.3+ MB\n"
          ]
        }
      ]
    },
    {
      "cell_type": "markdown",
      "source": [
        "**Feature Engineering**"
      ],
      "metadata": {
        "id": "4wEBBx2ZFHUT"
      }
    },
    {
      "cell_type": "code",
      "source": [
        "#creating an age column \n",
        "def age(DOB):\n",
        "  today = date.today()\n",
        "  age = today.year - DOB.year -((today.month, today.day) < (DOB.month, DOB.day))\n",
        "  return age"
      ],
      "metadata": {
        "id": "IDcTAxJcM6QG"
      },
      "execution_count": 460,
      "outputs": []
    },
    {
      "cell_type": "code",
      "source": [
        "customer_data['age'] = customer_data['DOB'].apply(lambda x: age(x))\n",
        "customer_data.drop('DOB',axis=1,inplace=True)"
      ],
      "metadata": {
        "id": "Dyuisiv9wrPp"
      },
      "execution_count": 461,
      "outputs": []
    },
    {
      "cell_type": "code",
      "source": [
        "customer_data.head(1)"
      ],
      "metadata": {
        "colab": {
          "base_uri": "https://localhost:8080/",
          "height": 179
        },
        "id": "H8LiPRmT3zgH",
        "outputId": "7a1bb08f-63cb-4db7-9563-bf8ab99bd2c9"
      },
      "execution_count": 462,
      "outputs": [
        {
          "output_type": "execute_result",
          "data": {
            "text/html": [
              "\n",
              "  <div id=\"df-e155d8da-60a6-4387-a481-bd45b4d7d18c\">\n",
              "    <div class=\"colab-df-container\">\n",
              "      <div>\n",
              "<style scoped>\n",
              "    .dataframe tbody tr th:only-of-type {\n",
              "        vertical-align: middle;\n",
              "    }\n",
              "\n",
              "    .dataframe tbody tr th {\n",
              "        vertical-align: top;\n",
              "    }\n",
              "\n",
              "    .dataframe thead th {\n",
              "        text-align: right;\n",
              "    }\n",
              "</style>\n",
              "<table border=\"1\" class=\"dataframe\">\n",
              "  <thead>\n",
              "    <tr style=\"text-align: right;\">\n",
              "      <th></th>\n",
              "      <th>customer_id</th>\n",
              "      <th>first_name</th>\n",
              "      <th>last_name</th>\n",
              "      <th>gender</th>\n",
              "      <th>past_3_years_bike_related_purchases</th>\n",
              "      <th>job_title</th>\n",
              "      <th>job_industry_category</th>\n",
              "      <th>wealth_segment</th>\n",
              "      <th>deceased_indicator</th>\n",
              "      <th>owns_car</th>\n",
              "      <th>tenure</th>\n",
              "      <th>address</th>\n",
              "      <th>postcode</th>\n",
              "      <th>state</th>\n",
              "      <th>country</th>\n",
              "      <th>property_valuation</th>\n",
              "      <th>transaction_id</th>\n",
              "      <th>product_id</th>\n",
              "      <th>transaction_date</th>\n",
              "      <th>online_order</th>\n",
              "      <th>order_status</th>\n",
              "      <th>brand</th>\n",
              "      <th>product_line</th>\n",
              "      <th>product_class</th>\n",
              "      <th>product_size</th>\n",
              "      <th>list_price</th>\n",
              "      <th>standard_cost</th>\n",
              "      <th>product_first_sold_date</th>\n",
              "      <th>age</th>\n",
              "    </tr>\n",
              "  </thead>\n",
              "  <tbody>\n",
              "    <tr>\n",
              "      <th>0</th>\n",
              "      <td>1</td>\n",
              "      <td>Laraine</td>\n",
              "      <td>Medendorp</td>\n",
              "      <td>Female</td>\n",
              "      <td>93</td>\n",
              "      <td>Executive Secretary</td>\n",
              "      <td>Health</td>\n",
              "      <td>Mass Customer</td>\n",
              "      <td>False</td>\n",
              "      <td>True</td>\n",
              "      <td>11.0</td>\n",
              "      <td>060 Morning Avenue</td>\n",
              "      <td>2016</td>\n",
              "      <td>NSW</td>\n",
              "      <td>Australia</td>\n",
              "      <td>10</td>\n",
              "      <td>9785</td>\n",
              "      <td>72</td>\n",
              "      <td>2017-01-05</td>\n",
              "      <td>0.0</td>\n",
              "      <td>Approved</td>\n",
              "      <td>Norco Bicycles</td>\n",
              "      <td>Standard</td>\n",
              "      <td>medium</td>\n",
              "      <td>medium</td>\n",
              "      <td>360.4</td>\n",
              "      <td>270.3</td>\n",
              "      <td>37873.0</td>\n",
              "      <td>68</td>\n",
              "    </tr>\n",
              "  </tbody>\n",
              "</table>\n",
              "</div>\n",
              "      <button class=\"colab-df-convert\" onclick=\"convertToInteractive('df-e155d8da-60a6-4387-a481-bd45b4d7d18c')\"\n",
              "              title=\"Convert this dataframe to an interactive table.\"\n",
              "              style=\"display:none;\">\n",
              "        \n",
              "  <svg xmlns=\"http://www.w3.org/2000/svg\" height=\"24px\"viewBox=\"0 0 24 24\"\n",
              "       width=\"24px\">\n",
              "    <path d=\"M0 0h24v24H0V0z\" fill=\"none\"/>\n",
              "    <path d=\"M18.56 5.44l.94 2.06.94-2.06 2.06-.94-2.06-.94-.94-2.06-.94 2.06-2.06.94zm-11 1L8.5 8.5l.94-2.06 2.06-.94-2.06-.94L8.5 2.5l-.94 2.06-2.06.94zm10 10l.94 2.06.94-2.06 2.06-.94-2.06-.94-.94-2.06-.94 2.06-2.06.94z\"/><path d=\"M17.41 7.96l-1.37-1.37c-.4-.4-.92-.59-1.43-.59-.52 0-1.04.2-1.43.59L10.3 9.45l-7.72 7.72c-.78.78-.78 2.05 0 2.83L4 21.41c.39.39.9.59 1.41.59.51 0 1.02-.2 1.41-.59l7.78-7.78 2.81-2.81c.8-.78.8-2.07 0-2.86zM5.41 20L4 18.59l7.72-7.72 1.47 1.35L5.41 20z\"/>\n",
              "  </svg>\n",
              "      </button>\n",
              "      \n",
              "  <style>\n",
              "    .colab-df-container {\n",
              "      display:flex;\n",
              "      flex-wrap:wrap;\n",
              "      gap: 12px;\n",
              "    }\n",
              "\n",
              "    .colab-df-convert {\n",
              "      background-color: #E8F0FE;\n",
              "      border: none;\n",
              "      border-radius: 50%;\n",
              "      cursor: pointer;\n",
              "      display: none;\n",
              "      fill: #1967D2;\n",
              "      height: 32px;\n",
              "      padding: 0 0 0 0;\n",
              "      width: 32px;\n",
              "    }\n",
              "\n",
              "    .colab-df-convert:hover {\n",
              "      background-color: #E2EBFA;\n",
              "      box-shadow: 0px 1px 2px rgba(60, 64, 67, 0.3), 0px 1px 3px 1px rgba(60, 64, 67, 0.15);\n",
              "      fill: #174EA6;\n",
              "    }\n",
              "\n",
              "    [theme=dark] .colab-df-convert {\n",
              "      background-color: #3B4455;\n",
              "      fill: #D2E3FC;\n",
              "    }\n",
              "\n",
              "    [theme=dark] .colab-df-convert:hover {\n",
              "      background-color: #434B5C;\n",
              "      box-shadow: 0px 1px 3px 1px rgba(0, 0, 0, 0.15);\n",
              "      filter: drop-shadow(0px 1px 2px rgba(0, 0, 0, 0.3));\n",
              "      fill: #FFFFFF;\n",
              "    }\n",
              "  </style>\n",
              "\n",
              "      <script>\n",
              "        const buttonEl =\n",
              "          document.querySelector('#df-e155d8da-60a6-4387-a481-bd45b4d7d18c button.colab-df-convert');\n",
              "        buttonEl.style.display =\n",
              "          google.colab.kernel.accessAllowed ? 'block' : 'none';\n",
              "\n",
              "        async function convertToInteractive(key) {\n",
              "          const element = document.querySelector('#df-e155d8da-60a6-4387-a481-bd45b4d7d18c');\n",
              "          const dataTable =\n",
              "            await google.colab.kernel.invokeFunction('convertToInteractive',\n",
              "                                                     [key], {});\n",
              "          if (!dataTable) return;\n",
              "\n",
              "          const docLinkHtml = 'Like what you see? Visit the ' +\n",
              "            '<a target=\"_blank\" href=https://colab.research.google.com/notebooks/data_table.ipynb>data table notebook</a>'\n",
              "            + ' to learn more about interactive tables.';\n",
              "          element.innerHTML = '';\n",
              "          dataTable['output_type'] = 'display_data';\n",
              "          await google.colab.output.renderOutput(dataTable, element);\n",
              "          const docLink = document.createElement('div');\n",
              "          docLink.innerHTML = docLinkHtml;\n",
              "          element.appendChild(docLink);\n",
              "        }\n",
              "      </script>\n",
              "    </div>\n",
              "  </div>\n",
              "  "
            ],
            "text/plain": [
              "   customer_id first_name  ... product_first_sold_date age\n",
              "0            1    Laraine  ...                 37873.0  68\n",
              "\n",
              "[1 rows x 29 columns]"
            ]
          },
          "metadata": {},
          "execution_count": 462
        }
      ]
    },
    {
      "cell_type": "code",
      "source": [
        "#profit\n",
        "customer_data['profit'] = customer_data['list_price'] - customer_data['standard_cost']"
      ],
      "metadata": {
        "id": "ir35YG-lEElh"
      },
      "execution_count": 463,
      "outputs": []
    },
    {
      "cell_type": "code",
      "source": [
        "#transaction month\n",
        "customer_data['transaction_month'] = pd.DatetimeIndex(customer_data['transaction_date']).month"
      ],
      "metadata": {
        "id": "6UymcSvTFbLm"
      },
      "execution_count": 464,
      "outputs": []
    },
    {
      "cell_type": "code",
      "source": [
        "customer_data.head(1)"
      ],
      "metadata": {
        "colab": {
          "base_uri": "https://localhost:8080/",
          "height": 179
        },
        "id": "9fOH9BqtFvxj",
        "outputId": "2edcda8e-7b39-4320-c62d-a167dc41553f"
      },
      "execution_count": 465,
      "outputs": [
        {
          "output_type": "execute_result",
          "data": {
            "text/html": [
              "\n",
              "  <div id=\"df-cbafa054-6dde-4ab1-9d11-9ff9a538faab\">\n",
              "    <div class=\"colab-df-container\">\n",
              "      <div>\n",
              "<style scoped>\n",
              "    .dataframe tbody tr th:only-of-type {\n",
              "        vertical-align: middle;\n",
              "    }\n",
              "\n",
              "    .dataframe tbody tr th {\n",
              "        vertical-align: top;\n",
              "    }\n",
              "\n",
              "    .dataframe thead th {\n",
              "        text-align: right;\n",
              "    }\n",
              "</style>\n",
              "<table border=\"1\" class=\"dataframe\">\n",
              "  <thead>\n",
              "    <tr style=\"text-align: right;\">\n",
              "      <th></th>\n",
              "      <th>customer_id</th>\n",
              "      <th>first_name</th>\n",
              "      <th>last_name</th>\n",
              "      <th>gender</th>\n",
              "      <th>past_3_years_bike_related_purchases</th>\n",
              "      <th>job_title</th>\n",
              "      <th>job_industry_category</th>\n",
              "      <th>wealth_segment</th>\n",
              "      <th>deceased_indicator</th>\n",
              "      <th>owns_car</th>\n",
              "      <th>tenure</th>\n",
              "      <th>address</th>\n",
              "      <th>postcode</th>\n",
              "      <th>state</th>\n",
              "      <th>country</th>\n",
              "      <th>property_valuation</th>\n",
              "      <th>transaction_id</th>\n",
              "      <th>product_id</th>\n",
              "      <th>transaction_date</th>\n",
              "      <th>online_order</th>\n",
              "      <th>order_status</th>\n",
              "      <th>brand</th>\n",
              "      <th>product_line</th>\n",
              "      <th>product_class</th>\n",
              "      <th>product_size</th>\n",
              "      <th>list_price</th>\n",
              "      <th>standard_cost</th>\n",
              "      <th>product_first_sold_date</th>\n",
              "      <th>age</th>\n",
              "      <th>profit</th>\n",
              "      <th>transaction_month</th>\n",
              "    </tr>\n",
              "  </thead>\n",
              "  <tbody>\n",
              "    <tr>\n",
              "      <th>0</th>\n",
              "      <td>1</td>\n",
              "      <td>Laraine</td>\n",
              "      <td>Medendorp</td>\n",
              "      <td>Female</td>\n",
              "      <td>93</td>\n",
              "      <td>Executive Secretary</td>\n",
              "      <td>Health</td>\n",
              "      <td>Mass Customer</td>\n",
              "      <td>False</td>\n",
              "      <td>True</td>\n",
              "      <td>11.0</td>\n",
              "      <td>060 Morning Avenue</td>\n",
              "      <td>2016</td>\n",
              "      <td>NSW</td>\n",
              "      <td>Australia</td>\n",
              "      <td>10</td>\n",
              "      <td>9785</td>\n",
              "      <td>72</td>\n",
              "      <td>2017-01-05</td>\n",
              "      <td>0.0</td>\n",
              "      <td>Approved</td>\n",
              "      <td>Norco Bicycles</td>\n",
              "      <td>Standard</td>\n",
              "      <td>medium</td>\n",
              "      <td>medium</td>\n",
              "      <td>360.4</td>\n",
              "      <td>270.3</td>\n",
              "      <td>37873.0</td>\n",
              "      <td>68</td>\n",
              "      <td>90.1</td>\n",
              "      <td>1</td>\n",
              "    </tr>\n",
              "  </tbody>\n",
              "</table>\n",
              "</div>\n",
              "      <button class=\"colab-df-convert\" onclick=\"convertToInteractive('df-cbafa054-6dde-4ab1-9d11-9ff9a538faab')\"\n",
              "              title=\"Convert this dataframe to an interactive table.\"\n",
              "              style=\"display:none;\">\n",
              "        \n",
              "  <svg xmlns=\"http://www.w3.org/2000/svg\" height=\"24px\"viewBox=\"0 0 24 24\"\n",
              "       width=\"24px\">\n",
              "    <path d=\"M0 0h24v24H0V0z\" fill=\"none\"/>\n",
              "    <path d=\"M18.56 5.44l.94 2.06.94-2.06 2.06-.94-2.06-.94-.94-2.06-.94 2.06-2.06.94zm-11 1L8.5 8.5l.94-2.06 2.06-.94-2.06-.94L8.5 2.5l-.94 2.06-2.06.94zm10 10l.94 2.06.94-2.06 2.06-.94-2.06-.94-.94-2.06-.94 2.06-2.06.94z\"/><path d=\"M17.41 7.96l-1.37-1.37c-.4-.4-.92-.59-1.43-.59-.52 0-1.04.2-1.43.59L10.3 9.45l-7.72 7.72c-.78.78-.78 2.05 0 2.83L4 21.41c.39.39.9.59 1.41.59.51 0 1.02-.2 1.41-.59l7.78-7.78 2.81-2.81c.8-.78.8-2.07 0-2.86zM5.41 20L4 18.59l7.72-7.72 1.47 1.35L5.41 20z\"/>\n",
              "  </svg>\n",
              "      </button>\n",
              "      \n",
              "  <style>\n",
              "    .colab-df-container {\n",
              "      display:flex;\n",
              "      flex-wrap:wrap;\n",
              "      gap: 12px;\n",
              "    }\n",
              "\n",
              "    .colab-df-convert {\n",
              "      background-color: #E8F0FE;\n",
              "      border: none;\n",
              "      border-radius: 50%;\n",
              "      cursor: pointer;\n",
              "      display: none;\n",
              "      fill: #1967D2;\n",
              "      height: 32px;\n",
              "      padding: 0 0 0 0;\n",
              "      width: 32px;\n",
              "    }\n",
              "\n",
              "    .colab-df-convert:hover {\n",
              "      background-color: #E2EBFA;\n",
              "      box-shadow: 0px 1px 2px rgba(60, 64, 67, 0.3), 0px 1px 3px 1px rgba(60, 64, 67, 0.15);\n",
              "      fill: #174EA6;\n",
              "    }\n",
              "\n",
              "    [theme=dark] .colab-df-convert {\n",
              "      background-color: #3B4455;\n",
              "      fill: #D2E3FC;\n",
              "    }\n",
              "\n",
              "    [theme=dark] .colab-df-convert:hover {\n",
              "      background-color: #434B5C;\n",
              "      box-shadow: 0px 1px 3px 1px rgba(0, 0, 0, 0.15);\n",
              "      filter: drop-shadow(0px 1px 2px rgba(0, 0, 0, 0.3));\n",
              "      fill: #FFFFFF;\n",
              "    }\n",
              "  </style>\n",
              "\n",
              "      <script>\n",
              "        const buttonEl =\n",
              "          document.querySelector('#df-cbafa054-6dde-4ab1-9d11-9ff9a538faab button.colab-df-convert');\n",
              "        buttonEl.style.display =\n",
              "          google.colab.kernel.accessAllowed ? 'block' : 'none';\n",
              "\n",
              "        async function convertToInteractive(key) {\n",
              "          const element = document.querySelector('#df-cbafa054-6dde-4ab1-9d11-9ff9a538faab');\n",
              "          const dataTable =\n",
              "            await google.colab.kernel.invokeFunction('convertToInteractive',\n",
              "                                                     [key], {});\n",
              "          if (!dataTable) return;\n",
              "\n",
              "          const docLinkHtml = 'Like what you see? Visit the ' +\n",
              "            '<a target=\"_blank\" href=https://colab.research.google.com/notebooks/data_table.ipynb>data table notebook</a>'\n",
              "            + ' to learn more about interactive tables.';\n",
              "          element.innerHTML = '';\n",
              "          dataTable['output_type'] = 'display_data';\n",
              "          await google.colab.output.renderOutput(dataTable, element);\n",
              "          const docLink = document.createElement('div');\n",
              "          docLink.innerHTML = docLinkHtml;\n",
              "          element.appendChild(docLink);\n",
              "        }\n",
              "      </script>\n",
              "    </div>\n",
              "  </div>\n",
              "  "
            ],
            "text/plain": [
              "   customer_id first_name  last_name  ... age  profit transaction_month\n",
              "0            1    Laraine  Medendorp  ...  68    90.1                 1\n",
              "\n",
              "[1 rows x 31 columns]"
            ]
          },
          "metadata": {},
          "execution_count": 465
        }
      ]
    },
    {
      "cell_type": "code",
      "source": [
        "customer_data['online_order'].value_counts()"
      ],
      "metadata": {
        "colab": {
          "base_uri": "https://localhost:8080/"
        },
        "id": "LFFe-5EbHWWr",
        "outputId": "8a3616a8-a615-441c-997d-4f28fd3dc07f"
      },
      "execution_count": 466,
      "outputs": [
        {
          "output_type": "execute_result",
          "data": {
            "text/plain": [
              "1.0    10006\n",
              "0.0     9962\n",
              "Name: online_order, dtype: int64"
            ]
          },
          "metadata": {},
          "execution_count": 466
        }
      ]
    },
    {
      "cell_type": "markdown",
      "source": [
        "**Visualization**"
      ],
      "metadata": {
        "id": "QsBryk2aGRXD"
      }
    },
    {
      "cell_type": "code",
      "source": [
        "categorical_variables = ['gender','job_industry_category','wealth_segment', 'deceased_indicator','owns_car', 'state','country','online_order','order_status','brand','product_line','product_class','product_size','transaction_month']\n",
        "numerical_variables = ['past_3_years_bike_related_purchases','tenure','property_valuation','profit','age']"
      ],
      "metadata": {
        "id": "kyVuOLpLGgmi"
      },
      "execution_count": 467,
      "outputs": []
    },
    {
      "cell_type": "code",
      "source": [
        "def countplots(cat_list):\n",
        "  for elem in cat_list:\n",
        "    plt.rcParams.update({'figure.figsize':(8,5),'figure.dpi':100})\n",
        "    sns.countplot(x = customer_data[elem])\n",
        "    plt.show()\n",
        "\n",
        "countplots(categorical_variables)"
      ],
      "metadata": {
        "colab": {
          "base_uri": "https://localhost:8080/",
          "height": 1000
        },
        "id": "TNcG-irnFzJ5",
        "outputId": "107ecc58-b575-44b1-a201-e03f2210fd96"
      },
      "execution_count": 470,
      "outputs": [
        {
          "output_type": "display_data",
          "data": {
            "image/png": "[encoded data removed]",
            "text/plain": [
              "<Figure size 800x500 with 1 Axes>"
            ]
          },
          "metadata": {
            "needs_background": "light"
          }
        },
        {
          "output_type": "display_data",
          "data": {
            "image/png": "[encoded data removed]",
            "text/plain": [
              "<Figure size 800x500 with 1 Axes>"
            ]
          },
          "metadata": {
            "needs_background": "light"
          }
        },
        {
          "output_type": "display_data",
          "data": {
            "image/png": "[encoded data removed]",
            "text/plain": [
              "<Figure size 800x500 with 1 Axes>"
            ]
          },
          "metadata": {
            "needs_background": "light"
          }
        },
        {
          "output_type": "display_data",
          "data": {
            "image/png": "[encoded data removed]",
            "text/plain": [
              "<Figure size 800x500 with 1 Axes>"
            ]
          },
          "metadata": {
            "needs_background": "light"
          }
        },
        {
          "output_type": "display_data",
          "data": {
            "image/png": "[encoded data removed]",
            "text/plain": [
              "<Figure size 800x500 with 1 Axes>"
            ]
          },
          "metadata": {
            "needs_background": "light"
          }
        },
        {
          "output_type": "display_data",
          "data": {
            "image/png": "[encoded data removed]",
            "text/plain": [
              "<Figure size 800x500 with 1 Axes>"
            ]
          },
          "metadata": {
            "needs_background": "light"
          }
        },
        {
          "output_type": "display_data",
          "data": {
            "image/png": "[encoded data removed]",
            "text/plain": [
              "<Figure size 800x500 with 1 Axes>"
            ]
          },
          "metadata": {
            "needs_background": "light"
          }
        },
        {
          "output_type": "display_data",
          "data": {
            "image/png": "[encoded data removed]",
            "text/plain": [
              "<Figure size 800x500 with 1 Axes>"
            ]
          },
          "metadata": {
            "needs_background": "light"
          }
        },
        {
          "output_type": "display_data",
          "data": {
            "image/png": "[encoded data removed]",
            "text/plain": [
              "<Figure size 800x500 with 1 Axes>"
            ]
          },
          "metadata": {
            "needs_background": "light"
          }
        },
        {
          "output_type": "display_data",
          "data": {
            "image/png": "[encoded data removed]",
            "text/plain": [
              "<Figure size 800x500 with 1 Axes>"
            ]
          },
          "metadata": {
            "needs_background": "light"
          }
        },
        {
          "output_type": "display_data",
          "data": {
            "image/png": "[encoded data removed]",
            "text/plain": [
              "<Figure size 800x500 with 1 Axes>"
            ]
          },
          "metadata": {
            "needs_background": "light"
          }
        },
        {
          "output_type": "display_data",
          "data": {
            "image/png": "[encoded data removed]",
            "text/plain": [
              "<Figure size 800x500 with 1 Axes>"
            ]
          },
          "metadata": {
            "needs_background": "light"
          }
        },
        {
          "output_type": "display_data",
          "data": {
            "image/png": "[encoded data removed]",
            "text/plain": [
              "<Figure size 800x500 with 1 Axes>"
            ]
          },
          "metadata": {
            "needs_background": "light"
          }
        },
        {
          "output_type": "display_data",
          "data": {
            "image/png": "[encoded data removed]",
            "text/plain": [
              "<Figure size 800x500 with 1 Axes>"
            ]
          },
          "metadata": {
            "needs_background": "light"
          }
        }
      ]
    },
    {
      "cell_type": "code",
      "source": [
        "def boxplots(num_list):\n",
        "  for elem in num_list:\n",
        "    plt.rcParams.update({'figure.figsize':(8,5),'figure.dpi':100})\n",
        "    sns.boxplot(y = customer_data[elem])\n",
        "    plt.show()\n",
        "\n",
        "boxplots(numerical_variables)"
      ],
      "metadata": {
        "colab": {
          "base_uri": "https://localhost:8080/",
          "height": 1000
        },
        "id": "nRafPLpAGeHH",
        "outputId": "0315eb4e-72f1-4063-dcae-794ec7a1d158"
      },
      "execution_count": 473,
      "outputs": [
        {
          "output_type": "display_data",
          "data": {
            "image/png": "[encoded data removed]",
            "text/plain": [
              "<Figure size 800x500 with 1 Axes>"
            ]
          },
          "metadata": {
            "needs_background": "light"
          }
        },
        {
          "output_type": "display_data",
          "data": {
            "image/png": "[encoded data removed]",
            "text/plain": [
              "<Figure size 800x500 with 1 Axes>"
            ]
          },
          "metadata": {
            "needs_background": "light"
          }
        },
        {
          "output_type": "display_data",
          "data": {
            "image/png": "[encoded data removed]",
            "text/plain": [
              "<Figure size 800x500 with 1 Axes>"
            ]
          },
          "metadata": {
            "needs_background": "light"
          }
        },
        {
          "output_type": "display_data",
          "data": {
            "image/png": "[encoded data removed]",
            "text/plain": [
              "<Figure size 800x500 with 1 Axes>"
            ]
          },
          "metadata": {
            "needs_background": "light"
          }
        },
        {
          "output_type": "display_data",
          "data": {
            "image/png": "[encoded data removed]",
            "text/plain": [
              "<Figure size 800x500 with 1 Axes>"
            ]
          },
          "metadata": {
            "needs_background": "light"
          }
        }
      ]
    },
    {
      "cell_type": "code",
      "source": [
        "#age distribution\n",
        "plt.figure(figsize = (8,5))\n",
        "plt.hist(customer_data['age'], bins=[0,24,44,64,100])\n",
        "plt.title('Age distribution histogram')\n",
        "plt.xlabel('Age')\n",
        "plt.ylabel('Frequency')\n",
        "plt.savefig('age_dist_histogram.png')\n",
        "plt.show()"
      ],
      "metadata": {
        "colab": {
          "base_uri": "https://localhost:8080/",
          "height": 480
        },
        "id": "29dZxa0GMntq",
        "outputId": "489af510-31c7-4c61-9796-fdd30fada264"
      },
      "execution_count": 475,
      "outputs": [
        {
          "output_type": "display_data",
          "data": {
            "image/png": "[encoded data removed]",
            "text/plain": [
              "<Figure size 800x500 with 1 Axes>"
            ]
          },
          "metadata": {
            "needs_background": "light"
          }
        }
      ]
    },
    {
      "cell_type": "markdown",
      "source": [
        "**Exploratory data analysis for Potential Customers**\n"
      ],
      "metadata": {
        "id": "f8C2kmYkNCTb"
      }
    },
    {
      "cell_type": "code",
      "source": [
        "#data cleaning\n",
        "new_customers.head(1)"
      ],
      "metadata": {
        "colab": {
          "base_uri": "https://localhost:8080/",
          "height": 179
        },
        "id": "Q307jcMuNflq",
        "outputId": "2658cf2a-d61b-4a51-fe54-1d088a1e8b33"
      },
      "execution_count": 476,
      "outputs": [
        {
          "output_type": "execute_result",
          "data": {
            "text/html": [
              "\n",
              "  <div id=\"df-4bc5581a-2094-4a61-a559-47ca8778c235\">\n",
              "    <div class=\"colab-df-container\">\n",
              "      <div>\n",
              "<style scoped>\n",
              "    .dataframe tbody tr th:only-of-type {\n",
              "        vertical-align: middle;\n",
              "    }\n",
              "\n",
              "    .dataframe tbody tr th {\n",
              "        vertical-align: top;\n",
              "    }\n",
              "\n",
              "    .dataframe thead th {\n",
              "        text-align: right;\n",
              "    }\n",
              "</style>\n",
              "<table border=\"1\" class=\"dataframe\">\n",
              "  <thead>\n",
              "    <tr style=\"text-align: right;\">\n",
              "      <th></th>\n",
              "      <th>first_name</th>\n",
              "      <th>last_name</th>\n",
              "      <th>gender</th>\n",
              "      <th>past_3_years_bike_related_purchases</th>\n",
              "      <th>DOB</th>\n",
              "      <th>job_title</th>\n",
              "      <th>job_industry_category</th>\n",
              "      <th>wealth_segment</th>\n",
              "      <th>deceased_indicator</th>\n",
              "      <th>owns_car</th>\n",
              "      <th>tenure</th>\n",
              "      <th>address</th>\n",
              "      <th>postcode</th>\n",
              "      <th>state</th>\n",
              "      <th>country</th>\n",
              "      <th>property_valuation</th>\n",
              "      <th>Rank</th>\n",
              "      <th>Value</th>\n",
              "    </tr>\n",
              "  </thead>\n",
              "  <tbody>\n",
              "    <tr>\n",
              "      <th>0</th>\n",
              "      <td>Chickie</td>\n",
              "      <td>Brister</td>\n",
              "      <td>Male</td>\n",
              "      <td>86</td>\n",
              "      <td>1957-07-12 00:00:00</td>\n",
              "      <td>General Manager</td>\n",
              "      <td>Manufacturing</td>\n",
              "      <td>Mass Customer</td>\n",
              "      <td>N</td>\n",
              "      <td>Yes</td>\n",
              "      <td>14</td>\n",
              "      <td>45 Shopko Center</td>\n",
              "      <td>4500</td>\n",
              "      <td>QLD</td>\n",
              "      <td>Australia</td>\n",
              "      <td>6</td>\n",
              "      <td>1</td>\n",
              "      <td>1.71875</td>\n",
              "    </tr>\n",
              "  </tbody>\n",
              "</table>\n",
              "</div>\n",
              "      <button class=\"colab-df-convert\" onclick=\"convertToInteractive('df-4bc5581a-2094-4a61-a559-47ca8778c235')\"\n",
              "              title=\"Convert this dataframe to an interactive table.\"\n",
              "              style=\"display:none;\">\n",
              "        \n",
              "  <svg xmlns=\"http://www.w3.org/2000/svg\" height=\"24px\"viewBox=\"0 0 24 24\"\n",
              "       width=\"24px\">\n",
              "    <path d=\"M0 0h24v24H0V0z\" fill=\"none\"/>\n",
              "    <path d=\"M18.56 5.44l.94 2.06.94-2.06 2.06-.94-2.06-.94-.94-2.06-.94 2.06-2.06.94zm-11 1L8.5 8.5l.94-2.06 2.06-.94-2.06-.94L8.5 2.5l-.94 2.06-2.06.94zm10 10l.94 2.06.94-2.06 2.06-.94-2.06-.94-.94-2.06-.94 2.06-2.06.94z\"/><path d=\"M17.41 7.96l-1.37-1.37c-.4-.4-.92-.59-1.43-.59-.52 0-1.04.2-1.43.59L10.3 9.45l-7.72 7.72c-.78.78-.78 2.05 0 2.83L4 21.41c.39.39.9.59 1.41.59.51 0 1.02-.2 1.41-.59l7.78-7.78 2.81-2.81c.8-.78.8-2.07 0-2.86zM5.41 20L4 18.59l7.72-7.72 1.47 1.35L5.41 20z\"/>\n",
              "  </svg>\n",
              "      </button>\n",
              "      \n",
              "  <style>\n",
              "    .colab-df-container {\n",
              "      display:flex;\n",
              "      flex-wrap:wrap;\n",
              "      gap: 12px;\n",
              "    }\n",
              "\n",
              "    .colab-df-convert {\n",
              "      background-color: #E8F0FE;\n",
              "      border: none;\n",
              "      border-radius: 50%;\n",
              "      cursor: pointer;\n",
              "      display: none;\n",
              "      fill: #1967D2;\n",
              "      height: 32px;\n",
              "      padding: 0 0 0 0;\n",
              "      width: 32px;\n",
              "    }\n",
              "\n",
              "    .colab-df-convert:hover {\n",
              "      background-color: #E2EBFA;\n",
              "      box-shadow: 0px 1px 2px rgba(60, 64, 67, 0.3), 0px 1px 3px 1px rgba(60, 64, 67, 0.15);\n",
              "      fill: #174EA6;\n",
              "    }\n",
              "\n",
              "    [theme=dark] .colab-df-convert {\n",
              "      background-color: #3B4455;\n",
              "      fill: #D2E3FC;\n",
              "    }\n",
              "\n",
              "    [theme=dark] .colab-df-convert:hover {\n",
              "      background-color: #434B5C;\n",
              "      box-shadow: 0px 1px 3px 1px rgba(0, 0, 0, 0.15);\n",
              "      filter: drop-shadow(0px 1px 2px rgba(0, 0, 0, 0.3));\n",
              "      fill: #FFFFFF;\n",
              "    }\n",
              "  </style>\n",
              "\n",
              "      <script>\n",
              "        const buttonEl =\n",
              "          document.querySelector('#df-4bc5581a-2094-4a61-a559-47ca8778c235 button.colab-df-convert');\n",
              "        buttonEl.style.display =\n",
              "          google.colab.kernel.accessAllowed ? 'block' : 'none';\n",
              "\n",
              "        async function convertToInteractive(key) {\n",
              "          const element = document.querySelector('#df-4bc5581a-2094-4a61-a559-47ca8778c235');\n",
              "          const dataTable =\n",
              "            await google.colab.kernel.invokeFunction('convertToInteractive',\n",
              "                                                     [key], {});\n",
              "          if (!dataTable) return;\n",
              "\n",
              "          const docLinkHtml = 'Like what you see? Visit the ' +\n",
              "            '<a target=\"_blank\" href=https://colab.research.google.com/notebooks/data_table.ipynb>data table notebook</a>'\n",
              "            + ' to learn more about interactive tables.';\n",
              "          element.innerHTML = '';\n",
              "          dataTable['output_type'] = 'display_data';\n",
              "          await google.colab.output.renderOutput(dataTable, element);\n",
              "          const docLink = document.createElement('div');\n",
              "          docLink.innerHTML = docLinkHtml;\n",
              "          element.appendChild(docLink);\n",
              "        }\n",
              "      </script>\n",
              "    </div>\n",
              "  </div>\n",
              "  "
            ],
            "text/plain": [
              "  first_name last_name gender  ...  property_valuation Rank    Value\n",
              "0    Chickie   Brister   Male  ...                   6    1  1.71875\n",
              "\n",
              "[1 rows x 18 columns]"
            ]
          },
          "metadata": {},
          "execution_count": 476
        }
      ]
    },
    {
      "cell_type": "code",
      "source": [
        "new_customers.info()"
      ],
      "metadata": {
        "colab": {
          "base_uri": "https://localhost:8080/"
        },
        "id": "WB6Ag4X9NxyS",
        "outputId": "c070ab72-bb0b-4769-d6b1-b7986b185ceb"
      },
      "execution_count": 477,
      "outputs": [
        {
          "output_type": "stream",
          "name": "stdout",
          "text": [
            "<class 'pandas.core.frame.DataFrame'>\n",
            "RangeIndex: 1000 entries, 0 to 999\n",
            "Data columns (total 18 columns):\n",
            " #   Column                               Non-Null Count  Dtype  \n",
            "---  ------                               --------------  -----  \n",
            " 0   first_name                           1000 non-null   object \n",
            " 1   last_name                            1000 non-null   object \n",
            " 2   gender                               1000 non-null   object \n",
            " 3   past_3_years_bike_related_purchases  1000 non-null   int64  \n",
            " 4   DOB                                  1000 non-null   object \n",
            " 5   job_title                            1000 non-null   object \n",
            " 6   job_industry_category                1000 non-null   object \n",
            " 7   wealth_segment                       1000 non-null   object \n",
            " 8   deceased_indicator                   1000 non-null   object \n",
            " 9   owns_car                             1000 non-null   object \n",
            " 10  tenure                               1000 non-null   int64  \n",
            " 11  address                              1000 non-null   object \n",
            " 12  postcode                             1000 non-null   int64  \n",
            " 13  state                                1000 non-null   object \n",
            " 14  country                              1000 non-null   object \n",
            " 15  property_valuation                   1000 non-null   int64  \n",
            " 16  Rank                                 1000 non-null   int64  \n",
            " 17  Value                                1000 non-null   float64\n",
            "dtypes: float64(1), int64(5), object(12)\n",
            "memory usage: 140.8+ KB\n"
          ]
        }
      ]
    },
    {
      "cell_type": "code",
      "source": [
        "new_customers['DOB'] = pd.to_datetime(new_customers['DOB'], errors='coerce')"
      ],
      "metadata": {
        "id": "zNbV4hD_N2kJ"
      },
      "execution_count": 478,
      "outputs": []
    },
    {
      "cell_type": "code",
      "source": [
        "new_customers.info()"
      ],
      "metadata": {
        "colab": {
          "base_uri": "https://localhost:8080/"
        },
        "id": "XIyu4hwTOQsb",
        "outputId": "2b745ea0-fa73-4aed-b833-8c36cf0924d5"
      },
      "execution_count": 480,
      "outputs": [
        {
          "output_type": "stream",
          "name": "stdout",
          "text": [
            "<class 'pandas.core.frame.DataFrame'>\n",
            "RangeIndex: 1000 entries, 0 to 999\n",
            "Data columns (total 18 columns):\n",
            " #   Column                               Non-Null Count  Dtype         \n",
            "---  ------                               --------------  -----         \n",
            " 0   first_name                           1000 non-null   object        \n",
            " 1   last_name                            1000 non-null   object        \n",
            " 2   gender                               1000 non-null   object        \n",
            " 3   past_3_years_bike_related_purchases  1000 non-null   int64         \n",
            " 4   DOB                                  983 non-null    datetime64[ns]\n",
            " 5   job_title                            1000 non-null   object        \n",
            " 6   job_industry_category                1000 non-null   object        \n",
            " 7   wealth_segment                       1000 non-null   object        \n",
            " 8   deceased_indicator                   1000 non-null   object        \n",
            " 9   owns_car                             1000 non-null   object        \n",
            " 10  tenure                               1000 non-null   int64         \n",
            " 11  address                              1000 non-null   object        \n",
            " 12  postcode                             1000 non-null   int64         \n",
            " 13  state                                1000 non-null   object        \n",
            " 14  country                              1000 non-null   object        \n",
            " 15  property_valuation                   1000 non-null   int64         \n",
            " 16  Rank                                 1000 non-null   int64         \n",
            " 17  Value                                1000 non-null   float64       \n",
            "dtypes: datetime64[ns](1), float64(1), int64(5), object(11)\n",
            "memory usage: 140.8+ KB\n"
          ]
        }
      ]
    },
    {
      "cell_type": "code",
      "source": [
        "new_customers['DOB'].fillna(method='ffill', inplace = True)"
      ],
      "metadata": {
        "id": "gu61uv-qOVbd"
      },
      "execution_count": 481,
      "outputs": []
    },
    {
      "cell_type": "code",
      "source": [
        "new_customers['age'] = new_customers['DOB'].apply(lambda x: age(x))\n",
        "new_customers.drop('DOB',axis=1,inplace=True)"
      ],
      "metadata": {
        "id": "a-s_SJSdOpa_"
      },
      "execution_count": 482,
      "outputs": []
    },
    {
      "cell_type": "code",
      "source": [
        "cat_list = ['gender','job_industry_category','wealth_segment','deceased_indicator','owns_car','state','country']\n",
        "num_list = [elem for elem in new_customers.describe() if elem not in cat_list]"
      ],
      "metadata": {
        "id": "2QM0nAezPAo-"
      },
      "execution_count": 484,
      "outputs": []
    },
    {
      "cell_type": "code",
      "source": [
        "def countplots(cat_list):\n",
        "  for elem in cat_list:\n",
        "    plt.rcParams.update({'figure.figsize':(8,5),'figure.dpi':100})\n",
        "    sns.countplot(x = new_customers[elem])\n",
        "    plt.show()\n",
        "\n",
        "countplots(cat_list)"
      ],
      "metadata": {
        "colab": {
          "base_uri": "https://localhost:8080/",
          "height": 1000
        },
        "id": "8sQWQHKuO3WI",
        "outputId": "1a4e97a0-fe04-4408-a249-bd8a5672d58e"
      },
      "execution_count": 485,
      "outputs": [
        {
          "output_type": "display_data",
          "data": {
            "image/png": "[encoded data removed]",
            "text/plain": [
              "<Figure size 800x500 with 1 Axes>"
            ]
          },
          "metadata": {
            "needs_background": "light"
          }
        },
        {
          "output_type": "display_data",
          "data": {
            "image/png": "[encoded data removed]",
            "text/plain": [
              "<Figure size 800x500 with 1 Axes>"
            ]
          },
          "metadata": {
            "needs_background": "light"
          }
        },
        {
          "output_type": "display_data",
          "data": {
            "image/png": "[encoded data removed]",
            "text/plain": [
              "<Figure size 800x500 with 1 Axes>"
            ]
          },
          "metadata": {
            "needs_background": "light"
          }
        },
        {
          "output_type": "display_data",
          "data": {
            "image/png": "[encoded data removed]",
            "text/plain": [
              "<Figure size 800x500 with 1 Axes>"
            ]
          },
          "metadata": {
            "needs_background": "light"
          }
        },
        {
          "output_type": "display_data",
          "data": {
            "image/png": "[encoded data removed]",
            "text/plain": [
              "<Figure size 800x500 with 1 Axes>"
            ]
          },
          "metadata": {
            "needs_background": "light"
          }
        },
        {
          "output_type": "display_data",
          "data": {
            "image/png": "[encoded data removed]",
            "text/plain": [
              "<Figure size 800x500 with 1 Axes>"
            ]
          },
          "metadata": {
            "needs_background": "light"
          }
        },
        {
          "output_type": "display_data",
          "data": {
            "image/png": "[encoded data removed]",
            "text/plain": [
              "<Figure size 800x500 with 1 Axes>"
            ]
          },
          "metadata": {
            "needs_background": "light"
          }
        }
      ]
    },
    {
      "cell_type": "code",
      "source": [
        "def boxplots(num_list):\n",
        "  for elem in num_list:\n",
        "    plt.rcParams.update({'figure.figsize':(8,5),'figure.dpi':100})\n",
        "    sns.boxplot(y = new_customers[elem])\n",
        "    plt.show()\n",
        "\n",
        "boxplots(num_list)"
      ],
      "metadata": {
        "colab": {
          "base_uri": "https://localhost:8080/",
          "height": 1000
        },
        "id": "tzWl5J8kP3Ja",
        "outputId": "3c5abb48-3b53-41ae-ae8f-2cb8ba66dbfd"
      },
      "execution_count": 486,
      "outputs": [
        {
          "output_type": "display_data",
          "data": {
            "image/png": "[encoded data removed]",
            "text/plain": [
              "<Figure size 800x500 with 1 Axes>"
            ]
          },
          "metadata": {
            "needs_background": "light"
          }
        },
        {
          "output_type": "display_data",
          "data": {
            "image/png": "[encoded data removed]",
            "text/plain": [
              "<Figure size 800x500 with 1 Axes>"
            ]
          },
          "metadata": {
            "needs_background": "light"
          }
        },
        {
          "output_type": "display_data",
          "data": {
            "image/png": "[encoded data removed]",
            "text/plain": [
              "<Figure size 800x500 with 1 Axes>"
            ]
          },
          "metadata": {
            "needs_background": "light"
          }
        },
        {
          "output_type": "display_data",
          "data": {
            "image/png": "[encoded data removed]",
            "text/plain": [
              "<Figure size 800x500 with 1 Axes>"
            ]
          },
          "metadata": {
            "needs_background": "light"
          }
        },
        {
          "output_type": "display_data",
          "data": {
            "image/png": "[encoded data removed]",
            "text/plain": [
              "<Figure size 800x500 with 1 Axes>"
            ]
          },
          "metadata": {
            "needs_background": "light"
          }
        },
        {
          "output_type": "display_data",
          "data": {
            "image/png": "[encoded data removed]",
            "text/plain": [
              "<Figure size 800x500 with 1 Axes>"
            ]
          },
          "metadata": {
            "needs_background": "light"
          }
        },
        {
          "output_type": "display_data",
          "data": {
            "image/png": "[encoded data removed]",
            "text/plain": [
              "<Figure size 800x500 with 1 Axes>"
            ]
          },
          "metadata": {
            "needs_background": "light"
          }
        }
      ]
    },
    {
      "cell_type": "code",
      "source": [
        "#age distribution\n",
        "plt.figure(figsize = (8,5))\n",
        "plt.hist(new_customers['age'], bins=[0,24,44,64,100])\n",
        "plt.title('Age distribution histogram')\n",
        "plt.xlabel('Age')\n",
        "plt.ylabel('Frequency')\n",
        "plt.savefig('age_dist_histogram.png')\n",
        "plt.show()"
      ],
      "metadata": {
        "colab": {
          "base_uri": "https://localhost:8080/",
          "height": 480
        },
        "id": "2AbLHN9dQCp5",
        "outputId": "265e6847-7554-4834-f82a-4a435c5ce2eb"
      },
      "execution_count": 487,
      "outputs": [
        {
          "output_type": "display_data",
          "data": {
            "image/png": "[encoded data removed]",
            "text/plain": [
              "<Figure size 800x500 with 1 Axes>"
            ]
          },
          "metadata": {
            "needs_background": "light"
          }
        }
      ]
    },
    {
      "cell_type": "markdown",
      "source": [
        "##**Conclusion**\n",
        "Upon analyzing the previous customer data it all these points can be concluded:\n",
        "* Females are higher in customer list but almost equal to men, doesn't really give us the information to target which gender in terms of marketing.\n",
        "* More customers are from Manufacturing, Financial and Health industries.\n",
        "* Mass Customers are more than affluent and high net worth customers, they can be targeted.\n",
        "* NSW customers are highest in number.\n",
        "* Solex brand is much popular.\n",
        "* Standard and Medium bicycles are much popular.\n",
        "* Age group 40-60 is much more interested in purchasing bicycles."
      ],
      "metadata": {
        "id": "cAQ2X5H5QPcu"
      }
    }
  ]
}